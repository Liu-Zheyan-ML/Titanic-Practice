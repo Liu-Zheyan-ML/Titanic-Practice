{
 "cells": [
  {
   "cell_type": "code",
   "execution_count": 1,
   "id": "77fabf97",
   "metadata": {
    "_cell_guid": "b1076dfc-b9ad-4769-8c92-a6c4dae69d19",
    "_uuid": "8f2839f25d086af736a60e9eeb907d3b93b6e0e5",
    "execution": {
     "iopub.execute_input": "2025-06-14T12:42:11.131740Z",
     "iopub.status.busy": "2025-06-14T12:42:11.131283Z",
     "iopub.status.idle": "2025-06-14T12:42:14.836064Z",
     "shell.execute_reply": "2025-06-14T12:42:14.835010Z"
    },
    "papermill": {
     "duration": 3.711627,
     "end_time": "2025-06-14T12:42:14.838009",
     "exception": false,
     "start_time": "2025-06-14T12:42:11.126382",
     "status": "completed"
    },
    "tags": []
   },
   "outputs": [],
   "source": [
    "import pandas as pd\n",
    "import numpy as np\n",
    "from sklearn.ensemble import RandomForestClassifier"
   ]
  },
  {
   "cell_type": "code",
   "execution_count": 2,
   "id": "c0c18bc7",
   "metadata": {
    "execution": {
     "iopub.execute_input": "2025-06-14T12:42:14.847489Z",
     "iopub.status.busy": "2025-06-14T12:42:14.847025Z",
     "iopub.status.idle": "2025-06-14T12:42:14.881433Z",
     "shell.execute_reply": "2025-06-14T12:42:14.880427Z"
    },
    "papermill": {
     "duration": 0.04077,
     "end_time": "2025-06-14T12:42:14.883600",
     "exception": false,
     "start_time": "2025-06-14T12:42:14.842830",
     "status": "completed"
    },
    "tags": []
   },
   "outputs": [],
   "source": [
    "train = pd.read_csv(\"/kaggle/input/titanic/train.csv\")\n",
    "test = pd.read_csv(\"/kaggle/input/titanic/test.csv\")"
   ]
  },
  {
   "cell_type": "code",
   "execution_count": 3,
   "id": "49e6079c",
   "metadata": {
    "execution": {
     "iopub.execute_input": "2025-06-14T12:42:14.893014Z",
     "iopub.status.busy": "2025-06-14T12:42:14.892733Z",
     "iopub.status.idle": "2025-06-14T12:42:14.925131Z",
     "shell.execute_reply": "2025-06-14T12:42:14.924352Z"
    },
    "papermill": {
     "duration": 0.039118,
     "end_time": "2025-06-14T12:42:14.926644",
     "exception": false,
     "start_time": "2025-06-14T12:42:14.887526",
     "status": "completed"
    },
    "tags": []
   },
   "outputs": [
    {
     "data": {
      "text/html": [
       "<div>\n",
       "<style scoped>\n",
       "    .dataframe tbody tr th:only-of-type {\n",
       "        vertical-align: middle;\n",
       "    }\n",
       "\n",
       "    .dataframe tbody tr th {\n",
       "        vertical-align: top;\n",
       "    }\n",
       "\n",
       "    .dataframe thead th {\n",
       "        text-align: right;\n",
       "    }\n",
       "</style>\n",
       "<table border=\"1\" class=\"dataframe\">\n",
       "  <thead>\n",
       "    <tr style=\"text-align: right;\">\n",
       "      <th></th>\n",
       "      <th>PassengerId</th>\n",
       "      <th>Survived</th>\n",
       "      <th>Pclass</th>\n",
       "      <th>Name</th>\n",
       "      <th>Sex</th>\n",
       "      <th>Age</th>\n",
       "      <th>SibSp</th>\n",
       "      <th>Parch</th>\n",
       "      <th>Ticket</th>\n",
       "      <th>Fare</th>\n",
       "      <th>Cabin</th>\n",
       "      <th>Embarked</th>\n",
       "    </tr>\n",
       "  </thead>\n",
       "  <tbody>\n",
       "    <tr>\n",
       "      <th>0</th>\n",
       "      <td>1</td>\n",
       "      <td>0</td>\n",
       "      <td>3</td>\n",
       "      <td>Braund, Mr. Owen Harris</td>\n",
       "      <td>male</td>\n",
       "      <td>22.0</td>\n",
       "      <td>1</td>\n",
       "      <td>0</td>\n",
       "      <td>A/5 21171</td>\n",
       "      <td>7.2500</td>\n",
       "      <td>NaN</td>\n",
       "      <td>S</td>\n",
       "    </tr>\n",
       "    <tr>\n",
       "      <th>1</th>\n",
       "      <td>2</td>\n",
       "      <td>1</td>\n",
       "      <td>1</td>\n",
       "      <td>Cumings, Mrs. John Bradley (Florence Briggs Th...</td>\n",
       "      <td>female</td>\n",
       "      <td>38.0</td>\n",
       "      <td>1</td>\n",
       "      <td>0</td>\n",
       "      <td>PC 17599</td>\n",
       "      <td>71.2833</td>\n",
       "      <td>C85</td>\n",
       "      <td>C</td>\n",
       "    </tr>\n",
       "    <tr>\n",
       "      <th>2</th>\n",
       "      <td>3</td>\n",
       "      <td>1</td>\n",
       "      <td>3</td>\n",
       "      <td>Heikkinen, Miss. Laina</td>\n",
       "      <td>female</td>\n",
       "      <td>26.0</td>\n",
       "      <td>0</td>\n",
       "      <td>0</td>\n",
       "      <td>STON/O2. 3101282</td>\n",
       "      <td>7.9250</td>\n",
       "      <td>NaN</td>\n",
       "      <td>S</td>\n",
       "    </tr>\n",
       "    <tr>\n",
       "      <th>3</th>\n",
       "      <td>4</td>\n",
       "      <td>1</td>\n",
       "      <td>1</td>\n",
       "      <td>Futrelle, Mrs. Jacques Heath (Lily May Peel)</td>\n",
       "      <td>female</td>\n",
       "      <td>35.0</td>\n",
       "      <td>1</td>\n",
       "      <td>0</td>\n",
       "      <td>113803</td>\n",
       "      <td>53.1000</td>\n",
       "      <td>C123</td>\n",
       "      <td>S</td>\n",
       "    </tr>\n",
       "    <tr>\n",
       "      <th>4</th>\n",
       "      <td>5</td>\n",
       "      <td>0</td>\n",
       "      <td>3</td>\n",
       "      <td>Allen, Mr. William Henry</td>\n",
       "      <td>male</td>\n",
       "      <td>35.0</td>\n",
       "      <td>0</td>\n",
       "      <td>0</td>\n",
       "      <td>373450</td>\n",
       "      <td>8.0500</td>\n",
       "      <td>NaN</td>\n",
       "      <td>S</td>\n",
       "    </tr>\n",
       "  </tbody>\n",
       "</table>\n",
       "</div>"
      ],
      "text/plain": [
       "   PassengerId  Survived  Pclass  \\\n",
       "0            1         0       3   \n",
       "1            2         1       1   \n",
       "2            3         1       3   \n",
       "3            4         1       1   \n",
       "4            5         0       3   \n",
       "\n",
       "                                                Name     Sex   Age  SibSp  \\\n",
       "0                            Braund, Mr. Owen Harris    male  22.0      1   \n",
       "1  Cumings, Mrs. John Bradley (Florence Briggs Th...  female  38.0      1   \n",
       "2                             Heikkinen, Miss. Laina  female  26.0      0   \n",
       "3       Futrelle, Mrs. Jacques Heath (Lily May Peel)  female  35.0      1   \n",
       "4                           Allen, Mr. William Henry    male  35.0      0   \n",
       "\n",
       "   Parch            Ticket     Fare Cabin Embarked  \n",
       "0      0         A/5 21171   7.2500   NaN        S  \n",
       "1      0          PC 17599  71.2833   C85        C  \n",
       "2      0  STON/O2. 3101282   7.9250   NaN        S  \n",
       "3      0            113803  53.1000  C123        S  \n",
       "4      0            373450   8.0500   NaN        S  "
      ]
     },
     "execution_count": 3,
     "metadata": {},
     "output_type": "execute_result"
    }
   ],
   "source": [
    "train.head()"
   ]
  },
  {
   "cell_type": "code",
   "execution_count": 4,
   "id": "ae4bfbb8",
   "metadata": {
    "execution": {
     "iopub.execute_input": "2025-06-14T12:42:14.935190Z",
     "iopub.status.busy": "2025-06-14T12:42:14.934463Z",
     "iopub.status.idle": "2025-06-14T12:42:14.946179Z",
     "shell.execute_reply": "2025-06-14T12:42:14.945494Z"
    },
    "papermill": {
     "duration": 0.017269,
     "end_time": "2025-06-14T12:42:14.947499",
     "exception": false,
     "start_time": "2025-06-14T12:42:14.930230",
     "status": "completed"
    },
    "tags": []
   },
   "outputs": [
    {
     "data": {
      "text/html": [
       "<div>\n",
       "<style scoped>\n",
       "    .dataframe tbody tr th:only-of-type {\n",
       "        vertical-align: middle;\n",
       "    }\n",
       "\n",
       "    .dataframe tbody tr th {\n",
       "        vertical-align: top;\n",
       "    }\n",
       "\n",
       "    .dataframe thead th {\n",
       "        text-align: right;\n",
       "    }\n",
       "</style>\n",
       "<table border=\"1\" class=\"dataframe\">\n",
       "  <thead>\n",
       "    <tr style=\"text-align: right;\">\n",
       "      <th></th>\n",
       "      <th>PassengerId</th>\n",
       "      <th>Pclass</th>\n",
       "      <th>Name</th>\n",
       "      <th>Sex</th>\n",
       "      <th>Age</th>\n",
       "      <th>SibSp</th>\n",
       "      <th>Parch</th>\n",
       "      <th>Ticket</th>\n",
       "      <th>Fare</th>\n",
       "      <th>Cabin</th>\n",
       "      <th>Embarked</th>\n",
       "    </tr>\n",
       "  </thead>\n",
       "  <tbody>\n",
       "    <tr>\n",
       "      <th>0</th>\n",
       "      <td>892</td>\n",
       "      <td>3</td>\n",
       "      <td>Kelly, Mr. James</td>\n",
       "      <td>male</td>\n",
       "      <td>34.5</td>\n",
       "      <td>0</td>\n",
       "      <td>0</td>\n",
       "      <td>330911</td>\n",
       "      <td>7.8292</td>\n",
       "      <td>NaN</td>\n",
       "      <td>Q</td>\n",
       "    </tr>\n",
       "    <tr>\n",
       "      <th>1</th>\n",
       "      <td>893</td>\n",
       "      <td>3</td>\n",
       "      <td>Wilkes, Mrs. James (Ellen Needs)</td>\n",
       "      <td>female</td>\n",
       "      <td>47.0</td>\n",
       "      <td>1</td>\n",
       "      <td>0</td>\n",
       "      <td>363272</td>\n",
       "      <td>7.0000</td>\n",
       "      <td>NaN</td>\n",
       "      <td>S</td>\n",
       "    </tr>\n",
       "    <tr>\n",
       "      <th>2</th>\n",
       "      <td>894</td>\n",
       "      <td>2</td>\n",
       "      <td>Myles, Mr. Thomas Francis</td>\n",
       "      <td>male</td>\n",
       "      <td>62.0</td>\n",
       "      <td>0</td>\n",
       "      <td>0</td>\n",
       "      <td>240276</td>\n",
       "      <td>9.6875</td>\n",
       "      <td>NaN</td>\n",
       "      <td>Q</td>\n",
       "    </tr>\n",
       "    <tr>\n",
       "      <th>3</th>\n",
       "      <td>895</td>\n",
       "      <td>3</td>\n",
       "      <td>Wirz, Mr. Albert</td>\n",
       "      <td>male</td>\n",
       "      <td>27.0</td>\n",
       "      <td>0</td>\n",
       "      <td>0</td>\n",
       "      <td>315154</td>\n",
       "      <td>8.6625</td>\n",
       "      <td>NaN</td>\n",
       "      <td>S</td>\n",
       "    </tr>\n",
       "    <tr>\n",
       "      <th>4</th>\n",
       "      <td>896</td>\n",
       "      <td>3</td>\n",
       "      <td>Hirvonen, Mrs. Alexander (Helga E Lindqvist)</td>\n",
       "      <td>female</td>\n",
       "      <td>22.0</td>\n",
       "      <td>1</td>\n",
       "      <td>1</td>\n",
       "      <td>3101298</td>\n",
       "      <td>12.2875</td>\n",
       "      <td>NaN</td>\n",
       "      <td>S</td>\n",
       "    </tr>\n",
       "  </tbody>\n",
       "</table>\n",
       "</div>"
      ],
      "text/plain": [
       "   PassengerId  Pclass                                          Name     Sex  \\\n",
       "0          892       3                              Kelly, Mr. James    male   \n",
       "1          893       3              Wilkes, Mrs. James (Ellen Needs)  female   \n",
       "2          894       2                     Myles, Mr. Thomas Francis    male   \n",
       "3          895       3                              Wirz, Mr. Albert    male   \n",
       "4          896       3  Hirvonen, Mrs. Alexander (Helga E Lindqvist)  female   \n",
       "\n",
       "    Age  SibSp  Parch   Ticket     Fare Cabin Embarked  \n",
       "0  34.5      0      0   330911   7.8292   NaN        Q  \n",
       "1  47.0      1      0   363272   7.0000   NaN        S  \n",
       "2  62.0      0      0   240276   9.6875   NaN        Q  \n",
       "3  27.0      0      0   315154   8.6625   NaN        S  \n",
       "4  22.0      1      1  3101298  12.2875   NaN        S  "
      ]
     },
     "execution_count": 4,
     "metadata": {},
     "output_type": "execute_result"
    }
   ],
   "source": [
    "test.head()"
   ]
  },
  {
   "cell_type": "code",
   "execution_count": 5,
   "id": "dccd748f",
   "metadata": {
    "execution": {
     "iopub.execute_input": "2025-06-14T12:42:14.956332Z",
     "iopub.status.busy": "2025-06-14T12:42:14.955560Z",
     "iopub.status.idle": "2025-06-14T12:42:14.959480Z",
     "shell.execute_reply": "2025-06-14T12:42:14.958751Z"
    },
    "papermill": {
     "duration": 0.009711,
     "end_time": "2025-06-14T12:42:14.960836",
     "exception": false,
     "start_time": "2025-06-14T12:42:14.951125",
     "status": "completed"
    },
    "tags": []
   },
   "outputs": [],
   "source": [
    "# 1等座和2等座所有年龄段的女性几乎全部存活 （0.97）\n",
    "# 1等座和2等座小于18岁所有人全部存活（1.0）\n",
    "# 3等座的妇孺只有一半的几率存活 （0.5）\n",
    "# 有孩子的家庭会比没有的生存率提升20% （0.52）\n",
    "# 影响力最大的为妇孺优先\n",
    "# 称呼 master 未成年男孩\n",
    "#     miss 未婚女性（包括未成年）\n",
    "#     mrs 已婚女性\n",
    "#     mr 成年男性\n",
    "# 除了这四种其他头衔(40人)\n",
    "# 船长(capt)和神职人员(rev)必死\n",
    "# 该头衔男性一半一半女性全部存活"
   ]
  },
  {
   "cell_type": "code",
   "execution_count": 6,
   "id": "f6a93dc2",
   "metadata": {
    "execution": {
     "iopub.execute_input": "2025-06-14T12:42:14.969514Z",
     "iopub.status.busy": "2025-06-14T12:42:14.968769Z",
     "iopub.status.idle": "2025-06-14T12:42:14.983091Z",
     "shell.execute_reply": "2025-06-14T12:42:14.982370Z"
    },
    "papermill": {
     "duration": 0.019898,
     "end_time": "2025-06-14T12:42:14.984467",
     "exception": false,
     "start_time": "2025-06-14T12:42:14.964569",
     "status": "completed"
    },
    "tags": []
   },
   "outputs": [],
   "source": [
    "train['Title'] = train['Name'].str.extract(r',\\s*([^\\.]+)\\.', expand=False)\n",
    "train['Title'] = train['Title'].str.strip()\n",
    "\n",
    "train['Title'] = train['Title'].replace(['Mlle', 'Ms'], 'Miss')\n",
    "train['Title'] = train['Title'].replace(['Mme', 'Countess', 'Lady', 'Dona'], 'Mrs')\n",
    "train['Title'] = train['Title'].replace(['Rev', 'Col', 'Major', 'Capt', 'Sir', 'Don', 'Jonkheer'], 'Officer')\n",
    "\n",
    "# title_counts = train['Title'].value_counts()\n",
    "# print(title_counts)"
   ]
  },
  {
   "cell_type": "code",
   "execution_count": 7,
   "id": "48aa6632",
   "metadata": {
    "execution": {
     "iopub.execute_input": "2025-06-14T12:42:14.992812Z",
     "iopub.status.busy": "2025-06-14T12:42:14.992536Z",
     "iopub.status.idle": "2025-06-14T12:42:15.002284Z",
     "shell.execute_reply": "2025-06-14T12:42:15.001356Z"
    },
    "papermill": {
     "duration": 0.015742,
     "end_time": "2025-06-14T12:42:15.003771",
     "exception": false,
     "start_time": "2025-06-14T12:42:14.988029",
     "status": "completed"
    },
    "tags": []
   },
   "outputs": [],
   "source": [
    "test['Title'] = test['Name'].str.extract(r',\\s*([^\\.]+)\\.', expand=False)\n",
    "test['Title'] = test['Title'].str.strip()\n",
    "\n",
    "test['Title'] = test['Title'].replace(['Mlle', 'Ms'], 'Miss')\n",
    "test['Title'] = test['Title'].replace(['Mme', 'Countess', 'Lady', 'Dona'], 'Mrs')\n",
    "test['Title'] = test['Title'].replace(['Rev', 'Col', 'Major', 'Capt', 'Sir', 'Don', 'Jonkheer'], 'Officer')"
   ]
  },
  {
   "cell_type": "code",
   "execution_count": 8,
   "id": "5d8c1f99",
   "metadata": {
    "execution": {
     "iopub.execute_input": "2025-06-14T12:42:15.012481Z",
     "iopub.status.busy": "2025-06-14T12:42:15.011941Z",
     "iopub.status.idle": "2025-06-14T12:42:15.033861Z",
     "shell.execute_reply": "2025-06-14T12:42:15.032799Z"
    },
    "papermill": {
     "duration": 0.027915,
     "end_time": "2025-06-14T12:42:15.035501",
     "exception": false,
     "start_time": "2025-06-14T12:42:15.007586",
     "status": "completed"
    },
    "tags": []
   },
   "outputs": [],
   "source": [
    "# 根据头衔赋予不同默认值\n",
    "title_defaults = {\n",
    "    'Master': 5,    # 儿童\n",
    "    'Miss': 22,     # 年轻女性\n",
    "    'Mr': 30,       # 成年男性\n",
    "    'Mrs': 35,      # 已婚女性\n",
    "    'Dr': 40,       # 医生/博士\n",
    "    'Officer': 45   # 军官/贵族\n",
    "}\n",
    "\n",
    "def fill_default_age_train(row):\n",
    "    if pd.isnull(row['Age']):\n",
    "        return title_defaults.get(row['Title'], train['Age'].median())\n",
    "    return row['Age']\n",
    "\n",
    "train['Age'] = train.apply(fill_default_age_train, axis=1)"
   ]
  },
  {
   "cell_type": "code",
   "execution_count": 9,
   "id": "0549bb16",
   "metadata": {
    "execution": {
     "iopub.execute_input": "2025-06-14T12:42:15.044781Z",
     "iopub.status.busy": "2025-06-14T12:42:15.044254Z",
     "iopub.status.idle": "2025-06-14T12:42:15.062489Z",
     "shell.execute_reply": "2025-06-14T12:42:15.061522Z"
    },
    "papermill": {
     "duration": 0.024909,
     "end_time": "2025-06-14T12:42:15.064414",
     "exception": false,
     "start_time": "2025-06-14T12:42:15.039505",
     "status": "completed"
    },
    "tags": []
   },
   "outputs": [],
   "source": [
    "def fill_default_age_test(row):\n",
    "    if pd.isnull(row['Age']):\n",
    "        return title_defaults.get(row['Title'], test['Age'].median())\n",
    "    return row['Age']\n",
    "\n",
    "test['Age'] = test.apply(fill_default_age_test, axis=1)"
   ]
  },
  {
   "cell_type": "code",
   "execution_count": 10,
   "id": "28449632",
   "metadata": {
    "execution": {
     "iopub.execute_input": "2025-06-14T12:42:15.076598Z",
     "iopub.status.busy": "2025-06-14T12:42:15.075659Z",
     "iopub.status.idle": "2025-06-14T12:42:15.081358Z",
     "shell.execute_reply": "2025-06-14T12:42:15.080654Z"
    },
    "papermill": {
     "duration": 0.01158,
     "end_time": "2025-06-14T12:42:15.082820",
     "exception": false,
     "start_time": "2025-06-14T12:42:15.071240",
     "status": "completed"
    },
    "tags": []
   },
   "outputs": [],
   "source": [
    "# 创建规则特征\n",
    "def create_rule_features(df):\n",
    "    # 规则1：1/2等舱女性\n",
    "    df['is_p12_female'] = ((df['Pclass'].isin([1,2])) & (df['Sex']=='female'))\n",
    "    \n",
    "    # 规则2：1/2等舱<18岁\n",
    "    df['is_p12_under18'] = ((df['Pclass'].isin([1,2])) & (df['Age']<18))\n",
    "    \n",
    "    # 规则3：3等舱妇孺\n",
    "    df['is_p3_women_child'] = ((df['Pclass']==3) & ((df['Sex']=='female') | (df['Age']<18)))\n",
    "\n",
    "    # 规则4：有孩子的家庭\n",
    "    # train['family_with_child'] = (train['Parch']>0)\n",
    "    \n",
    "    return df"
   ]
  },
  {
   "cell_type": "code",
   "execution_count": 11,
   "id": "262b0f3b",
   "metadata": {
    "execution": {
     "iopub.execute_input": "2025-06-14T12:42:15.090586Z",
     "iopub.status.busy": "2025-06-14T12:42:15.090278Z",
     "iopub.status.idle": "2025-06-14T12:42:15.104818Z",
     "shell.execute_reply": "2025-06-14T12:42:15.103991Z"
    },
    "papermill": {
     "duration": 0.020092,
     "end_time": "2025-06-14T12:42:15.106337",
     "exception": false,
     "start_time": "2025-06-14T12:42:15.086245",
     "status": "completed"
    },
    "tags": []
   },
   "outputs": [],
   "source": [
    "# 应用特征工程\n",
    "train = create_rule_features(train)\n",
    "test = create_rule_features(test)"
   ]
  },
  {
   "cell_type": "code",
   "execution_count": 12,
   "id": "5feac57d",
   "metadata": {
    "execution": {
     "iopub.execute_input": "2025-06-14T12:42:15.114669Z",
     "iopub.status.busy": "2025-06-14T12:42:15.114387Z",
     "iopub.status.idle": "2025-06-14T12:42:15.294369Z",
     "shell.execute_reply": "2025-06-14T12:42:15.293538Z"
    },
    "papermill": {
     "duration": 0.186108,
     "end_time": "2025-06-14T12:42:15.296082",
     "exception": false,
     "start_time": "2025-06-14T12:42:15.109974",
     "status": "completed"
    },
    "tags": []
   },
   "outputs": [],
   "source": [
    "features = ['Pclass', 'Sex', 'Age', 'SibSp', 'Parch', \n",
    "           'is_p12_female', 'is_p12_under18', \n",
    "            'is_p3_women_child']\n",
    "X_train = pd.get_dummies(train[features])\n",
    "y_train = train[\"Survived\"]\n",
    "X_test = pd.get_dummies(test[features])\n",
    "model = RandomForestClassifier(n_estimators=100, max_depth=5, random_state=1)\n",
    "model.fit(X_train, y_train)\n",
    "predictions = model.predict(X_test)"
   ]
  },
  {
   "cell_type": "code",
   "execution_count": 13,
   "id": "297f483e",
   "metadata": {
    "execution": {
     "iopub.execute_input": "2025-06-14T12:42:15.304463Z",
     "iopub.status.busy": "2025-06-14T12:42:15.304096Z",
     "iopub.status.idle": "2025-06-14T12:42:15.309284Z",
     "shell.execute_reply": "2025-06-14T12:42:15.308571Z"
    },
    "papermill": {
     "duration": 0.010919,
     "end_time": "2025-06-14T12:42:15.310580",
     "exception": false,
     "start_time": "2025-06-14T12:42:15.299661",
     "status": "completed"
    },
    "tags": []
   },
   "outputs": [],
   "source": [
    "def apply_hard_rules(df, predictions):\n",
    "    # 规则1：1/2等舱女性强制存活\n",
    "    rule1 = (df['Pclass'].isin([1,2])) & (df['Sex']=='female')\n",
    "    predictions[rule1] = 1\n",
    "    \n",
    "    # 规则2：所有儿童强制存活\n",
    "    rule2 = (df['Age'] < 18)\n",
    "    predictions[rule2] = 1\n",
    "    \n",
    "    # 规则3：3等舱60岁以上强制不存活（示例规则）\n",
    "    rule3 = (df['Pclass']==3) & (df['Age']>60)\n",
    "    predictions[rule3] = 0\n",
    "    \n",
    "    return predictions"
   ]
  },
  {
   "cell_type": "code",
   "execution_count": 14,
   "id": "7ac4a301",
   "metadata": {
    "execution": {
     "iopub.execute_input": "2025-06-14T12:42:15.318527Z",
     "iopub.status.busy": "2025-06-14T12:42:15.318185Z",
     "iopub.status.idle": "2025-06-14T12:42:15.323887Z",
     "shell.execute_reply": "2025-06-14T12:42:15.323090Z"
    },
    "papermill": {
     "duration": 0.011451,
     "end_time": "2025-06-14T12:42:15.325583",
     "exception": false,
     "start_time": "2025-06-14T12:42:15.314132",
     "status": "completed"
    },
    "tags": []
   },
   "outputs": [],
   "source": [
    "final_pred = apply_hard_rules(test, predictions) "
   ]
  },
  {
   "cell_type": "code",
   "execution_count": 15,
   "id": "277a283f",
   "metadata": {
    "execution": {
     "iopub.execute_input": "2025-06-14T12:42:15.337389Z",
     "iopub.status.busy": "2025-06-14T12:42:15.336437Z",
     "iopub.status.idle": "2025-06-14T12:42:15.349676Z",
     "shell.execute_reply": "2025-06-14T12:42:15.348545Z"
    },
    "papermill": {
     "duration": 0.019976,
     "end_time": "2025-06-14T12:42:15.351392",
     "exception": false,
     "start_time": "2025-06-14T12:42:15.331416",
     "status": "completed"
    },
    "tags": []
   },
   "outputs": [
    {
     "name": "stdout",
     "output_type": "stream",
     "text": [
      "Your submission was successfully saved!\n"
     ]
    }
   ],
   "source": [
    "output = pd.DataFrame({'PassengerId': test['PassengerId'], 'Survived': final_pred})\n",
    "output.to_csv('submission.csv', index=False)\n",
    "print(\"Your submission was successfully saved!\")"
   ]
  }
 ],
 "metadata": {
  "kaggle": {
   "accelerator": "none",
   "dataSources": [
    {
     "databundleVersionId": 26502,
     "sourceId": 3136,
     "sourceType": "competition"
    }
   ],
   "dockerImageVersionId": 31040,
   "isGpuEnabled": false,
   "isInternetEnabled": true,
   "language": "python",
   "sourceType": "notebook"
  },
  "kernelspec": {
   "display_name": "Python 3",
   "language": "python",
   "name": "python3"
  },
  "language_info": {
   "codemirror_mode": {
    "name": "ipython",
    "version": 3
   },
   "file_extension": ".py",
   "mimetype": "text/x-python",
   "name": "python",
   "nbconvert_exporter": "python",
   "pygments_lexer": "ipython3",
   "version": "3.11.11"
  },
  "papermill": {
   "default_parameters": {},
   "duration": 9.697551,
   "end_time": "2025-06-14T12:42:16.074736",
   "environment_variables": {},
   "exception": null,
   "input_path": "__notebook__.ipynb",
   "output_path": "__notebook__.ipynb",
   "parameters": {},
   "start_time": "2025-06-14T12:42:06.377185",
   "version": "2.6.0"
  }
 },
 "nbformat": 4,
 "nbformat_minor": 5
}
