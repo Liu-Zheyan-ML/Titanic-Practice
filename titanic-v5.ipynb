{
 "cells": [
  {
   "cell_type": "code",
   "execution_count": 1,
   "id": "afdb0f7b",
   "metadata": {
    "_cell_guid": "b1076dfc-b9ad-4769-8c92-a6c4dae69d19",
    "_uuid": "8f2839f25d086af736a60e9eeb907d3b93b6e0e5",
    "execution": {
     "iopub.execute_input": "2025-06-14T08:19:41.966522Z",
     "iopub.status.busy": "2025-06-14T08:19:41.966144Z",
     "iopub.status.idle": "2025-06-14T08:19:44.048904Z",
     "shell.execute_reply": "2025-06-14T08:19:44.047693Z"
    },
    "papermill": {
     "duration": 2.090055,
     "end_time": "2025-06-14T08:19:44.050939",
     "exception": false,
     "start_time": "2025-06-14T08:19:41.960884",
     "status": "completed"
    },
    "tags": []
   },
   "outputs": [],
   "source": [
    "import pandas as pd"
   ]
  },
  {
   "cell_type": "code",
   "execution_count": 2,
   "id": "a7fa2820",
   "metadata": {
    "execution": {
     "iopub.execute_input": "2025-06-14T08:19:44.060803Z",
     "iopub.status.busy": "2025-06-14T08:19:44.059241Z",
     "iopub.status.idle": "2025-06-14T08:19:44.099632Z",
     "shell.execute_reply": "2025-06-14T08:19:44.098413Z"
    },
    "papermill": {
     "duration": 0.046735,
     "end_time": "2025-06-14T08:19:44.101492",
     "exception": false,
     "start_time": "2025-06-14T08:19:44.054757",
     "status": "completed"
    },
    "tags": []
   },
   "outputs": [],
   "source": [
    "train = pd.read_csv(\"/kaggle/input/titanic/train.csv\")\n",
    "test = pd.read_csv(\"/kaggle/input/titanic/test.csv\")"
   ]
  },
  {
   "cell_type": "code",
   "execution_count": 3,
   "id": "347f61c9",
   "metadata": {
    "execution": {
     "iopub.execute_input": "2025-06-14T08:19:44.109287Z",
     "iopub.status.busy": "2025-06-14T08:19:44.108945Z",
     "iopub.status.idle": "2025-06-14T08:19:44.140767Z",
     "shell.execute_reply": "2025-06-14T08:19:44.139637Z"
    },
    "papermill": {
     "duration": 0.037537,
     "end_time": "2025-06-14T08:19:44.142388",
     "exception": false,
     "start_time": "2025-06-14T08:19:44.104851",
     "status": "completed"
    },
    "tags": []
   },
   "outputs": [
    {
     "data": {
      "text/html": [
       "<div>\n",
       "<style scoped>\n",
       "    .dataframe tbody tr th:only-of-type {\n",
       "        vertical-align: middle;\n",
       "    }\n",
       "\n",
       "    .dataframe tbody tr th {\n",
       "        vertical-align: top;\n",
       "    }\n",
       "\n",
       "    .dataframe thead th {\n",
       "        text-align: right;\n",
       "    }\n",
       "</style>\n",
       "<table border=\"1\" class=\"dataframe\">\n",
       "  <thead>\n",
       "    <tr style=\"text-align: right;\">\n",
       "      <th></th>\n",
       "      <th>PassengerId</th>\n",
       "      <th>Survived</th>\n",
       "      <th>Pclass</th>\n",
       "      <th>Name</th>\n",
       "      <th>Sex</th>\n",
       "      <th>Age</th>\n",
       "      <th>SibSp</th>\n",
       "      <th>Parch</th>\n",
       "      <th>Ticket</th>\n",
       "      <th>Fare</th>\n",
       "      <th>Cabin</th>\n",
       "      <th>Embarked</th>\n",
       "    </tr>\n",
       "  </thead>\n",
       "  <tbody>\n",
       "    <tr>\n",
       "      <th>0</th>\n",
       "      <td>1</td>\n",
       "      <td>0</td>\n",
       "      <td>3</td>\n",
       "      <td>Braund, Mr. Owen Harris</td>\n",
       "      <td>male</td>\n",
       "      <td>22.0</td>\n",
       "      <td>1</td>\n",
       "      <td>0</td>\n",
       "      <td>A/5 21171</td>\n",
       "      <td>7.2500</td>\n",
       "      <td>NaN</td>\n",
       "      <td>S</td>\n",
       "    </tr>\n",
       "    <tr>\n",
       "      <th>1</th>\n",
       "      <td>2</td>\n",
       "      <td>1</td>\n",
       "      <td>1</td>\n",
       "      <td>Cumings, Mrs. John Bradley (Florence Briggs Th...</td>\n",
       "      <td>female</td>\n",
       "      <td>38.0</td>\n",
       "      <td>1</td>\n",
       "      <td>0</td>\n",
       "      <td>PC 17599</td>\n",
       "      <td>71.2833</td>\n",
       "      <td>C85</td>\n",
       "      <td>C</td>\n",
       "    </tr>\n",
       "    <tr>\n",
       "      <th>2</th>\n",
       "      <td>3</td>\n",
       "      <td>1</td>\n",
       "      <td>3</td>\n",
       "      <td>Heikkinen, Miss. Laina</td>\n",
       "      <td>female</td>\n",
       "      <td>26.0</td>\n",
       "      <td>0</td>\n",
       "      <td>0</td>\n",
       "      <td>STON/O2. 3101282</td>\n",
       "      <td>7.9250</td>\n",
       "      <td>NaN</td>\n",
       "      <td>S</td>\n",
       "    </tr>\n",
       "    <tr>\n",
       "      <th>3</th>\n",
       "      <td>4</td>\n",
       "      <td>1</td>\n",
       "      <td>1</td>\n",
       "      <td>Futrelle, Mrs. Jacques Heath (Lily May Peel)</td>\n",
       "      <td>female</td>\n",
       "      <td>35.0</td>\n",
       "      <td>1</td>\n",
       "      <td>0</td>\n",
       "      <td>113803</td>\n",
       "      <td>53.1000</td>\n",
       "      <td>C123</td>\n",
       "      <td>S</td>\n",
       "    </tr>\n",
       "    <tr>\n",
       "      <th>4</th>\n",
       "      <td>5</td>\n",
       "      <td>0</td>\n",
       "      <td>3</td>\n",
       "      <td>Allen, Mr. William Henry</td>\n",
       "      <td>male</td>\n",
       "      <td>35.0</td>\n",
       "      <td>0</td>\n",
       "      <td>0</td>\n",
       "      <td>373450</td>\n",
       "      <td>8.0500</td>\n",
       "      <td>NaN</td>\n",
       "      <td>S</td>\n",
       "    </tr>\n",
       "  </tbody>\n",
       "</table>\n",
       "</div>"
      ],
      "text/plain": [
       "   PassengerId  Survived  Pclass  \\\n",
       "0            1         0       3   \n",
       "1            2         1       1   \n",
       "2            3         1       3   \n",
       "3            4         1       1   \n",
       "4            5         0       3   \n",
       "\n",
       "                                                Name     Sex   Age  SibSp  \\\n",
       "0                            Braund, Mr. Owen Harris    male  22.0      1   \n",
       "1  Cumings, Mrs. John Bradley (Florence Briggs Th...  female  38.0      1   \n",
       "2                             Heikkinen, Miss. Laina  female  26.0      0   \n",
       "3       Futrelle, Mrs. Jacques Heath (Lily May Peel)  female  35.0      1   \n",
       "4                           Allen, Mr. William Henry    male  35.0      0   \n",
       "\n",
       "   Parch            Ticket     Fare Cabin Embarked  \n",
       "0      0         A/5 21171   7.2500   NaN        S  \n",
       "1      0          PC 17599  71.2833   C85        C  \n",
       "2      0  STON/O2. 3101282   7.9250   NaN        S  \n",
       "3      0            113803  53.1000  C123        S  \n",
       "4      0            373450   8.0500   NaN        S  "
      ]
     },
     "execution_count": 3,
     "metadata": {},
     "output_type": "execute_result"
    }
   ],
   "source": [
    "train.head()"
   ]
  },
  {
   "cell_type": "code",
   "execution_count": 4,
   "id": "12ca5562",
   "metadata": {
    "execution": {
     "iopub.execute_input": "2025-06-14T08:19:44.151065Z",
     "iopub.status.busy": "2025-06-14T08:19:44.150726Z",
     "iopub.status.idle": "2025-06-14T08:19:44.198814Z",
     "shell.execute_reply": "2025-06-14T08:19:44.197523Z"
    },
    "papermill": {
     "duration": 0.054472,
     "end_time": "2025-06-14T08:19:44.200727",
     "exception": false,
     "start_time": "2025-06-14T08:19:44.146255",
     "status": "completed"
    },
    "tags": []
   },
   "outputs": [],
   "source": [
    "# 新增高价值特征\n",
    "def add_features(df):\n",
    "    # 姓名中的称呼（Title）\n",
    "    df['Title'] = df['Name'].str.extract(' ([A-Za-z]+)\\.', expand=False)\n",
    "    df['Title'] = df['Title'].replace(['Lady', 'Countess', 'Capt', 'Col', 'Don', 'Dr', 'Major', 'Rev', 'Sir', 'Jonkheer', 'Dona'], 'Rare')\n",
    "    df['Title'] = df['Title'].replace('Mlle', 'Miss').replace('Ms', 'Miss').replace('Mme', 'Mrs')\n",
    "    \n",
    "    # 家庭规模与是否独行\n",
    "    df['FamilySize'] = df['SibSp'] + df['Parch'] + 1\n",
    "    df['IsAlone'] = (df['FamilySize'] == 1).astype(int)\n",
    "\n",
    "    # 用训练集统计量填充测试集\n",
    "    fare_median = train['Fare'].median()\n",
    "    # train['Fare'].fillna(fare_median, inplace=True)\n",
    "    test ['Fare'] = test['Fare'].fillna(fare_median)\n",
    "    \n",
    "    # 票价分组（处理偏态分布）\n",
    "    df['FareBin'] = pd.qcut(df['Fare'], 4, labels=False)\n",
    "    \n",
    "    # 年龄分组（儿童生存率高）\n",
    "    df['AgeBin'] = pd.cut(df['Age'], bins=[0, 12, 30, 50, 100], labels=False)\n",
    "    \n",
    "    # 高生存率组合特征\n",
    "    df['RichFemale'] = ((df['Pclass'] == 1) & (df['Sex'] == 'female')).astype(int)\n",
    "    return df\n",
    "\n",
    "train = add_features(train)\n",
    "test = add_features(test)"
   ]
  },
  {
   "cell_type": "code",
   "execution_count": 5,
   "id": "24bd3a81",
   "metadata": {
    "execution": {
     "iopub.execute_input": "2025-06-14T08:19:44.209231Z",
     "iopub.status.busy": "2025-06-14T08:19:44.208931Z",
     "iopub.status.idle": "2025-06-14T08:19:44.234997Z",
     "shell.execute_reply": "2025-06-14T08:19:44.233872Z"
    },
    "papermill": {
     "duration": 0.032591,
     "end_time": "2025-06-14T08:19:44.237218",
     "exception": false,
     "start_time": "2025-06-14T08:19:44.204627",
     "status": "completed"
    },
    "tags": []
   },
   "outputs": [],
   "source": [
    "# Age用Title分组中位数填充（更精确）\n",
    "train['AgeBin'] = train.groupby('Title')['Age'].transform(lambda x: x.fillna(x.median()))\n",
    "test['AgeBin'] = test.groupby('Title')['Age'].transform(lambda x: x.fillna(x.median()))\n",
    "\n",
    "train['Age'] = train.groupby('Title')['Age'].transform(lambda x: x.fillna(x.median()))\n",
    "test['Age'] = test.groupby('Title')['Age'].transform(lambda x: x.fillna(x.median()))"
   ]
  },
  {
   "cell_type": "code",
   "execution_count": 6,
   "id": "a75dbce4",
   "metadata": {
    "execution": {
     "iopub.execute_input": "2025-06-14T08:19:44.245500Z",
     "iopub.status.busy": "2025-06-14T08:19:44.245158Z",
     "iopub.status.idle": "2025-06-14T08:19:44.253961Z",
     "shell.execute_reply": "2025-06-14T08:19:44.252943Z"
    },
    "papermill": {
     "duration": 0.014999,
     "end_time": "2025-06-14T08:19:44.255748",
     "exception": false,
     "start_time": "2025-06-14T08:19:44.240749",
     "status": "completed"
    },
    "tags": []
   },
   "outputs": [],
   "source": [
    "# 有序类别编码（Pclass和FareBin）\n",
    "train['Pclass'] = train['Pclass'].astype('category').cat.codes\n",
    "test['Pclass'] = test['Pclass'].astype('category').cat.codes"
   ]
  },
  {
   "cell_type": "code",
   "execution_count": 7,
   "id": "09dc253a",
   "metadata": {
    "execution": {
     "iopub.execute_input": "2025-06-14T08:19:44.263992Z",
     "iopub.status.busy": "2025-06-14T08:19:44.263674Z",
     "iopub.status.idle": "2025-06-14T08:19:44.271753Z",
     "shell.execute_reply": "2025-06-14T08:19:44.270758Z"
    },
    "papermill": {
     "duration": 0.014713,
     "end_time": "2025-06-14T08:19:44.273934",
     "exception": false,
     "start_time": "2025-06-14T08:19:44.259221",
     "status": "completed"
    },
    "tags": []
   },
   "outputs": [],
   "source": [
    "# 标签编码Title（比One-Hot更适合树模型）\n",
    "title_map = {v: i for i, v in enumerate(train['Title'].unique())}\n",
    "train['Title'] = train['Title'].map(title_map)\n",
    "test['Title'] = test['Title'].map(title_map)"
   ]
  },
  {
   "cell_type": "code",
   "execution_count": 8,
   "id": "d5d34c78",
   "metadata": {
    "execution": {
     "iopub.execute_input": "2025-06-14T08:19:44.282009Z",
     "iopub.status.busy": "2025-06-14T08:19:44.281692Z",
     "iopub.status.idle": "2025-06-14T08:19:44.289941Z",
     "shell.execute_reply": "2025-06-14T08:19:44.288817Z"
    },
    "papermill": {
     "duration": 0.014379,
     "end_time": "2025-06-14T08:19:44.291700",
     "exception": false,
     "start_time": "2025-06-14T08:19:44.277321",
     "status": "completed"
    },
    "tags": []
   },
   "outputs": [],
   "source": [
    "train['Sex_encoded'] = train['Sex'].map({'male': 0, 'female': 1})\n",
    "test['Sex_encoded'] = test['Sex'].map({'male': 0, 'female': 1})"
   ]
  },
  {
   "cell_type": "code",
   "execution_count": 9,
   "id": "0efb5423",
   "metadata": {
    "execution": {
     "iopub.execute_input": "2025-06-14T08:19:44.299873Z",
     "iopub.status.busy": "2025-06-14T08:19:44.299441Z",
     "iopub.status.idle": "2025-06-14T08:19:44.313527Z",
     "shell.execute_reply": "2025-06-14T08:19:44.312343Z"
    },
    "papermill": {
     "duration": 0.020116,
     "end_time": "2025-06-14T08:19:44.315355",
     "exception": false,
     "start_time": "2025-06-14T08:19:44.295239",
     "status": "completed"
    },
    "tags": []
   },
   "outputs": [],
   "source": [
    "train.dropna(subset=['Embarked'], inplace=True)\n",
    "test.dropna(subset=['Embarked'], inplace=True)"
   ]
  },
  {
   "cell_type": "code",
   "execution_count": 10,
   "id": "9aff709f",
   "metadata": {
    "execution": {
     "iopub.execute_input": "2025-06-14T08:19:44.323407Z",
     "iopub.status.busy": "2025-06-14T08:19:44.323083Z",
     "iopub.status.idle": "2025-06-14T08:19:44.332771Z",
     "shell.execute_reply": "2025-06-14T08:19:44.331578Z"
    },
    "papermill": {
     "duration": 0.015704,
     "end_time": "2025-06-14T08:19:44.334468",
     "exception": false,
     "start_time": "2025-06-14T08:19:44.318764",
     "status": "completed"
    },
    "tags": []
   },
   "outputs": [
    {
     "name": "stdout",
     "output_type": "stream",
     "text": [
      "PassengerId      0\n",
      "Survived         0\n",
      "Pclass           0\n",
      "Name             0\n",
      "Sex              0\n",
      "Age              0\n",
      "SibSp            0\n",
      "Parch            0\n",
      "Ticket           0\n",
      "Fare             0\n",
      "Cabin          687\n",
      "Embarked         0\n",
      "Title            0\n",
      "FamilySize       0\n",
      "IsAlone          0\n",
      "FareBin          0\n",
      "AgeBin           0\n",
      "RichFemale       0\n",
      "Sex_encoded      0\n",
      "dtype: int64\n"
     ]
    }
   ],
   "source": [
    "print(train.isnull().sum())"
   ]
  },
  {
   "cell_type": "code",
   "execution_count": 11,
   "id": "65a5ba27",
   "metadata": {
    "execution": {
     "iopub.execute_input": "2025-06-14T08:19:44.342620Z",
     "iopub.status.busy": "2025-06-14T08:19:44.342237Z",
     "iopub.status.idle": "2025-06-14T08:19:44.350271Z",
     "shell.execute_reply": "2025-06-14T08:19:44.349054Z"
    },
    "papermill": {
     "duration": 0.014509,
     "end_time": "2025-06-14T08:19:44.352391",
     "exception": false,
     "start_time": "2025-06-14T08:19:44.337882",
     "status": "completed"
    },
    "tags": []
   },
   "outputs": [
    {
     "name": "stdout",
     "output_type": "stream",
     "text": [
      "PassengerId      0\n",
      "Pclass           0\n",
      "Name             0\n",
      "Sex              0\n",
      "Age              0\n",
      "SibSp            0\n",
      "Parch            0\n",
      "Ticket           0\n",
      "Fare             0\n",
      "Cabin          327\n",
      "Embarked         0\n",
      "Title            0\n",
      "FamilySize       0\n",
      "IsAlone          0\n",
      "FareBin          0\n",
      "AgeBin           0\n",
      "RichFemale       0\n",
      "Sex_encoded      0\n",
      "dtype: int64\n"
     ]
    }
   ],
   "source": [
    "print(test.isnull().sum())"
   ]
  },
  {
   "cell_type": "code",
   "execution_count": 12,
   "id": "909a98ca",
   "metadata": {
    "execution": {
     "iopub.execute_input": "2025-06-14T08:19:44.361690Z",
     "iopub.status.busy": "2025-06-14T08:19:44.361327Z",
     "iopub.status.idle": "2025-06-14T08:19:47.780960Z",
     "shell.execute_reply": "2025-06-14T08:19:47.779937Z"
    },
    "papermill": {
     "duration": 3.426372,
     "end_time": "2025-06-14T08:19:47.782795",
     "exception": false,
     "start_time": "2025-06-14T08:19:44.356423",
     "status": "completed"
    },
    "tags": []
   },
   "outputs": [
    {
     "data": {
      "text/html": [
       "<style>#sk-container-id-1 {color: black;background-color: white;}#sk-container-id-1 pre{padding: 0;}#sk-container-id-1 div.sk-toggleable {background-color: white;}#sk-container-id-1 label.sk-toggleable__label {cursor: pointer;display: block;width: 100%;margin-bottom: 0;padding: 0.3em;box-sizing: border-box;text-align: center;}#sk-container-id-1 label.sk-toggleable__label-arrow:before {content: \"▸\";float: left;margin-right: 0.25em;color: #696969;}#sk-container-id-1 label.sk-toggleable__label-arrow:hover:before {color: black;}#sk-container-id-1 div.sk-estimator:hover label.sk-toggleable__label-arrow:before {color: black;}#sk-container-id-1 div.sk-toggleable__content {max-height: 0;max-width: 0;overflow: hidden;text-align: left;background-color: #f0f8ff;}#sk-container-id-1 div.sk-toggleable__content pre {margin: 0.2em;color: black;border-radius: 0.25em;background-color: #f0f8ff;}#sk-container-id-1 input.sk-toggleable__control:checked~div.sk-toggleable__content {max-height: 200px;max-width: 100%;overflow: auto;}#sk-container-id-1 input.sk-toggleable__control:checked~label.sk-toggleable__label-arrow:before {content: \"▾\";}#sk-container-id-1 div.sk-estimator input.sk-toggleable__control:checked~label.sk-toggleable__label {background-color: #d4ebff;}#sk-container-id-1 div.sk-label input.sk-toggleable__control:checked~label.sk-toggleable__label {background-color: #d4ebff;}#sk-container-id-1 input.sk-hidden--visually {border: 0;clip: rect(1px 1px 1px 1px);clip: rect(1px, 1px, 1px, 1px);height: 1px;margin: -1px;overflow: hidden;padding: 0;position: absolute;width: 1px;}#sk-container-id-1 div.sk-estimator {font-family: monospace;background-color: #f0f8ff;border: 1px dotted black;border-radius: 0.25em;box-sizing: border-box;margin-bottom: 0.5em;}#sk-container-id-1 div.sk-estimator:hover {background-color: #d4ebff;}#sk-container-id-1 div.sk-parallel-item::after {content: \"\";width: 100%;border-bottom: 1px solid gray;flex-grow: 1;}#sk-container-id-1 div.sk-label:hover label.sk-toggleable__label {background-color: #d4ebff;}#sk-container-id-1 div.sk-serial::before {content: \"\";position: absolute;border-left: 1px solid gray;box-sizing: border-box;top: 0;bottom: 0;left: 50%;z-index: 0;}#sk-container-id-1 div.sk-serial {display: flex;flex-direction: column;align-items: center;background-color: white;padding-right: 0.2em;padding-left: 0.2em;position: relative;}#sk-container-id-1 div.sk-item {position: relative;z-index: 1;}#sk-container-id-1 div.sk-parallel {display: flex;align-items: stretch;justify-content: center;background-color: white;position: relative;}#sk-container-id-1 div.sk-item::before, #sk-container-id-1 div.sk-parallel-item::before {content: \"\";position: absolute;border-left: 1px solid gray;box-sizing: border-box;top: 0;bottom: 0;left: 50%;z-index: -1;}#sk-container-id-1 div.sk-parallel-item {display: flex;flex-direction: column;z-index: 1;position: relative;background-color: white;}#sk-container-id-1 div.sk-parallel-item:first-child::after {align-self: flex-end;width: 50%;}#sk-container-id-1 div.sk-parallel-item:last-child::after {align-self: flex-start;width: 50%;}#sk-container-id-1 div.sk-parallel-item:only-child::after {width: 0;}#sk-container-id-1 div.sk-dashed-wrapped {border: 1px dashed gray;margin: 0 0.4em 0.5em 0.4em;box-sizing: border-box;padding-bottom: 0.4em;background-color: white;}#sk-container-id-1 div.sk-label label {font-family: monospace;font-weight: bold;display: inline-block;line-height: 1.2em;}#sk-container-id-1 div.sk-label-container {text-align: center;}#sk-container-id-1 div.sk-container {/* jupyter's `normalize.less` sets `[hidden] { display: none; }` but bootstrap.min.css set `[hidden] { display: none !important; }` so we also need the `!important` here to be able to override the default hidden behavior on the sphinx rendered scikit-learn.org. See: https://github.com/scikit-learn/scikit-learn/issues/21755 */display: inline-block !important;position: relative;}#sk-container-id-1 div.sk-text-repr-fallback {display: none;}</style><div id=\"sk-container-id-1\" class=\"sk-top-container\"><div class=\"sk-text-repr-fallback\"><pre>VotingClassifier(estimators=[(&#x27;xgb&#x27;,\n",
       "                              XGBClassifier(base_score=None, booster=None,\n",
       "                                            callbacks=None,\n",
       "                                            colsample_bylevel=None,\n",
       "                                            colsample_bynode=None,\n",
       "                                            colsample_bytree=0.8, device=None,\n",
       "                                            early_stopping_rounds=None,\n",
       "                                            enable_categorical=False,\n",
       "                                            eval_metric=None,\n",
       "                                            feature_types=None, gamma=None,\n",
       "                                            grow_policy=None,\n",
       "                                            importance_type=None,\n",
       "                                            interaction_constraints=None,\n",
       "                                            learning_rat...\n",
       "                                            max_cat_threshold=None,\n",
       "                                            max_cat_to_onehot=None,\n",
       "                                            max_delta_step=None, max_depth=4,\n",
       "                                            max_leaves=None,\n",
       "                                            min_child_weight=None, missing=nan,\n",
       "                                            monotone_constraints=None,\n",
       "                                            multi_strategy=None,\n",
       "                                            n_estimators=500, n_jobs=None,\n",
       "                                            num_parallel_tree=None,\n",
       "                                            random_state=42, ...)),\n",
       "                             (&#x27;rf&#x27;,\n",
       "                              RandomForestClassifier(max_depth=5,\n",
       "                                                     min_samples_split=5,\n",
       "                                                     n_estimators=200,\n",
       "                                                     random_state=42))],\n",
       "                 voting=&#x27;soft&#x27;)</pre><b>In a Jupyter environment, please rerun this cell to show the HTML representation or trust the notebook. <br />On GitHub, the HTML representation is unable to render, please try loading this page with nbviewer.org.</b></div><div class=\"sk-container\" hidden><div class=\"sk-item sk-dashed-wrapped\"><div class=\"sk-label-container\"><div class=\"sk-label sk-toggleable\"><input class=\"sk-toggleable__control sk-hidden--visually\" id=\"sk-estimator-id-1\" type=\"checkbox\" ><label for=\"sk-estimator-id-1\" class=\"sk-toggleable__label sk-toggleable__label-arrow\">VotingClassifier</label><div class=\"sk-toggleable__content\"><pre>VotingClassifier(estimators=[(&#x27;xgb&#x27;,\n",
       "                              XGBClassifier(base_score=None, booster=None,\n",
       "                                            callbacks=None,\n",
       "                                            colsample_bylevel=None,\n",
       "                                            colsample_bynode=None,\n",
       "                                            colsample_bytree=0.8, device=None,\n",
       "                                            early_stopping_rounds=None,\n",
       "                                            enable_categorical=False,\n",
       "                                            eval_metric=None,\n",
       "                                            feature_types=None, gamma=None,\n",
       "                                            grow_policy=None,\n",
       "                                            importance_type=None,\n",
       "                                            interaction_constraints=None,\n",
       "                                            learning_rat...\n",
       "                                            max_cat_threshold=None,\n",
       "                                            max_cat_to_onehot=None,\n",
       "                                            max_delta_step=None, max_depth=4,\n",
       "                                            max_leaves=None,\n",
       "                                            min_child_weight=None, missing=nan,\n",
       "                                            monotone_constraints=None,\n",
       "                                            multi_strategy=None,\n",
       "                                            n_estimators=500, n_jobs=None,\n",
       "                                            num_parallel_tree=None,\n",
       "                                            random_state=42, ...)),\n",
       "                             (&#x27;rf&#x27;,\n",
       "                              RandomForestClassifier(max_depth=5,\n",
       "                                                     min_samples_split=5,\n",
       "                                                     n_estimators=200,\n",
       "                                                     random_state=42))],\n",
       "                 voting=&#x27;soft&#x27;)</pre></div></div></div><div class=\"sk-parallel\"><div class=\"sk-parallel-item\"><div class=\"sk-item\"><div class=\"sk-label-container\"><div class=\"sk-label sk-toggleable\"><label>xgb</label></div></div><div class=\"sk-serial\"><div class=\"sk-item\"><div class=\"sk-estimator sk-toggleable\"><input class=\"sk-toggleable__control sk-hidden--visually\" id=\"sk-estimator-id-2\" type=\"checkbox\" ><label for=\"sk-estimator-id-2\" class=\"sk-toggleable__label sk-toggleable__label-arrow\">XGBClassifier</label><div class=\"sk-toggleable__content\"><pre>XGBClassifier(base_score=None, booster=None, callbacks=None,\n",
       "              colsample_bylevel=None, colsample_bynode=None,\n",
       "              colsample_bytree=0.8, device=None, early_stopping_rounds=None,\n",
       "              enable_categorical=False, eval_metric=None, feature_types=None,\n",
       "              gamma=None, grow_policy=None, importance_type=None,\n",
       "              interaction_constraints=None, learning_rate=0.01, max_bin=None,\n",
       "              max_cat_threshold=None, max_cat_to_onehot=None,\n",
       "              max_delta_step=None, max_depth=4, max_leaves=None,\n",
       "              min_child_weight=None, missing=nan, monotone_constraints=None,\n",
       "              multi_strategy=None, n_estimators=500, n_jobs=None,\n",
       "              num_parallel_tree=None, random_state=42, ...)</pre></div></div></div></div></div></div><div class=\"sk-parallel-item\"><div class=\"sk-item\"><div class=\"sk-label-container\"><div class=\"sk-label sk-toggleable\"><label>rf</label></div></div><div class=\"sk-serial\"><div class=\"sk-item\"><div class=\"sk-estimator sk-toggleable\"><input class=\"sk-toggleable__control sk-hidden--visually\" id=\"sk-estimator-id-3\" type=\"checkbox\" ><label for=\"sk-estimator-id-3\" class=\"sk-toggleable__label sk-toggleable__label-arrow\">RandomForestClassifier</label><div class=\"sk-toggleable__content\"><pre>RandomForestClassifier(max_depth=5, min_samples_split=5, n_estimators=200,\n",
       "                       random_state=42)</pre></div></div></div></div></div></div></div></div></div></div>"
      ],
      "text/plain": [
       "VotingClassifier(estimators=[('xgb',\n",
       "                              XGBClassifier(base_score=None, booster=None,\n",
       "                                            callbacks=None,\n",
       "                                            colsample_bylevel=None,\n",
       "                                            colsample_bynode=None,\n",
       "                                            colsample_bytree=0.8, device=None,\n",
       "                                            early_stopping_rounds=None,\n",
       "                                            enable_categorical=False,\n",
       "                                            eval_metric=None,\n",
       "                                            feature_types=None, gamma=None,\n",
       "                                            grow_policy=None,\n",
       "                                            importance_type=None,\n",
       "                                            interaction_constraints=None,\n",
       "                                            learning_rat...\n",
       "                                            max_cat_threshold=None,\n",
       "                                            max_cat_to_onehot=None,\n",
       "                                            max_delta_step=None, max_depth=4,\n",
       "                                            max_leaves=None,\n",
       "                                            min_child_weight=None, missing=nan,\n",
       "                                            monotone_constraints=None,\n",
       "                                            multi_strategy=None,\n",
       "                                            n_estimators=500, n_jobs=None,\n",
       "                                            num_parallel_tree=None,\n",
       "                                            random_state=42, ...)),\n",
       "                             ('rf',\n",
       "                              RandomForestClassifier(max_depth=5,\n",
       "                                                     min_samples_split=5,\n",
       "                                                     n_estimators=200,\n",
       "                                                     random_state=42))],\n",
       "                 voting='soft')"
      ]
     },
     "execution_count": 12,
     "metadata": {},
     "output_type": "execute_result"
    }
   ],
   "source": [
    "from xgboost import XGBClassifier\n",
    "from sklearn.ensemble import RandomForestClassifier\n",
    "from sklearn.ensemble import VotingClassifier\n",
    "\n",
    "# 定义特征列\n",
    "features = ['Pclass', 'Sex_encoded', 'Age', 'Fare', 'FamilySize', 'IsAlone', \n",
    "            'Title', 'RichFemale', 'FareBin', 'AgeBin']\n",
    "\n",
    "# XGBoost调参\n",
    "xgb = XGBClassifier(\n",
    "    learning_rate=0.01,\n",
    "    n_estimators=500,\n",
    "    max_depth=4,\n",
    "    subsample=0.8,\n",
    "    colsample_bytree=0.8,\n",
    "    reg_alpha=0.1,\n",
    "    reg_lambda=0.1,\n",
    "    random_state=42\n",
    ")\n",
    "\n",
    "# 随机森林\n",
    "rf = RandomForestClassifier(\n",
    "    n_estimators=200,\n",
    "    max_depth=5,\n",
    "    min_samples_split=5,\n",
    "    random_state=42\n",
    ")\n",
    "\n",
    "# 投票集成\n",
    "ensemble = VotingClassifier(\n",
    "    estimators=[('xgb', xgb), ('rf', rf)],\n",
    "    voting='soft'\n",
    ")\n",
    "ensemble.fit(train[features], train['Survived'])"
   ]
  },
  {
   "cell_type": "code",
   "execution_count": 13,
   "id": "eee2dd79",
   "metadata": {
    "execution": {
     "iopub.execute_input": "2025-06-14T08:19:47.792106Z",
     "iopub.status.busy": "2025-06-14T08:19:47.791639Z",
     "iopub.status.idle": "2025-06-14T08:19:47.832324Z",
     "shell.execute_reply": "2025-06-14T08:19:47.831029Z"
    },
    "papermill": {
     "duration": 0.047469,
     "end_time": "2025-06-14T08:19:47.834275",
     "exception": false,
     "start_time": "2025-06-14T08:19:47.786806",
     "status": "completed"
    },
    "tags": []
   },
   "outputs": [
    {
     "name": "stdout",
     "output_type": "stream",
     "text": [
      "Your submission was successfully saved!\n"
     ]
    }
   ],
   "source": [
    "predictions = ensemble.predict(test[features])\n",
    "output = pd.DataFrame({'PassengerId': test['PassengerId'], 'Survived': predictions})\n",
    "output.to_csv('submission.csv', index=False)\n",
    "print(\"Your submission was successfully saved!\")"
   ]
  }
 ],
 "metadata": {
  "kaggle": {
   "accelerator": "none",
   "dataSources": [
    {
     "databundleVersionId": 26502,
     "sourceId": 3136,
     "sourceType": "competition"
    }
   ],
   "dockerImageVersionId": 31040,
   "isGpuEnabled": false,
   "isInternetEnabled": true,
   "language": "python",
   "sourceType": "notebook"
  },
  "kernelspec": {
   "display_name": "Python 3",
   "language": "python",
   "name": "python3"
  },
  "language_info": {
   "codemirror_mode": {
    "name": "ipython",
    "version": 3
   },
   "file_extension": ".py",
   "mimetype": "text/x-python",
   "name": "python",
   "nbconvert_exporter": "python",
   "pygments_lexer": "ipython3",
   "version": "3.11.11"
  },
  "papermill": {
   "default_parameters": {},
   "duration": 13.618691,
   "end_time": "2025-06-14T08:19:48.660686",
   "environment_variables": {},
   "exception": null,
   "input_path": "__notebook__.ipynb",
   "output_path": "__notebook__.ipynb",
   "parameters": {},
   "start_time": "2025-06-14T08:19:35.041995",
   "version": "2.6.0"
  }
 },
 "nbformat": 4,
 "nbformat_minor": 5
}
