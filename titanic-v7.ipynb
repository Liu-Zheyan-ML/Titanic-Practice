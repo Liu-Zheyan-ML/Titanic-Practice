{
 "cells": [
  {
   "cell_type": "code",
   "execution_count": 1,
   "id": "7345c0a8",
   "metadata": {
    "_cell_guid": "b1076dfc-b9ad-4769-8c92-a6c4dae69d19",
    "_uuid": "8f2839f25d086af736a60e9eeb907d3b93b6e0e5",
    "execution": {
     "iopub.execute_input": "2025-06-14T12:31:19.498190Z",
     "iopub.status.busy": "2025-06-14T12:31:19.497868Z",
     "iopub.status.idle": "2025-06-14T12:31:23.688421Z",
     "shell.execute_reply": "2025-06-14T12:31:23.687521Z"
    },
    "papermill": {
     "duration": 4.197064,
     "end_time": "2025-06-14T12:31:23.690156",
     "exception": false,
     "start_time": "2025-06-14T12:31:19.493092",
     "status": "completed"
    },
    "tags": []
   },
   "outputs": [],
   "source": [
    "import pandas as pd\n",
    "import numpy as np\n",
    "from sklearn.ensemble import RandomForestClassifier"
   ]
  },
  {
   "cell_type": "code",
   "execution_count": 2,
   "id": "8e436e95",
   "metadata": {
    "execution": {
     "iopub.execute_input": "2025-06-14T12:31:23.698613Z",
     "iopub.status.busy": "2025-06-14T12:31:23.698142Z",
     "iopub.status.idle": "2025-06-14T12:31:23.820687Z",
     "shell.execute_reply": "2025-06-14T12:31:23.819780Z"
    },
    "papermill": {
     "duration": 0.128688,
     "end_time": "2025-06-14T12:31:23.822668",
     "exception": false,
     "start_time": "2025-06-14T12:31:23.693980",
     "status": "completed"
    },
    "tags": []
   },
   "outputs": [],
   "source": [
    "train = pd.read_csv(\"/kaggle/input/titanic/train.csv\")\n",
    "test = pd.read_csv(\"/kaggle/input/titanic/test.csv\")"
   ]
  },
  {
   "cell_type": "code",
   "execution_count": 3,
   "id": "f1186d17",
   "metadata": {
    "execution": {
     "iopub.execute_input": "2025-06-14T12:31:23.829837Z",
     "iopub.status.busy": "2025-06-14T12:31:23.829458Z",
     "iopub.status.idle": "2025-06-14T12:31:23.857795Z",
     "shell.execute_reply": "2025-06-14T12:31:23.856800Z"
    },
    "papermill": {
     "duration": 0.033641,
     "end_time": "2025-06-14T12:31:23.859327",
     "exception": false,
     "start_time": "2025-06-14T12:31:23.825686",
     "status": "completed"
    },
    "tags": []
   },
   "outputs": [
    {
     "data": {
      "text/html": [
       "<div>\n",
       "<style scoped>\n",
       "    .dataframe tbody tr th:only-of-type {\n",
       "        vertical-align: middle;\n",
       "    }\n",
       "\n",
       "    .dataframe tbody tr th {\n",
       "        vertical-align: top;\n",
       "    }\n",
       "\n",
       "    .dataframe thead th {\n",
       "        text-align: right;\n",
       "    }\n",
       "</style>\n",
       "<table border=\"1\" class=\"dataframe\">\n",
       "  <thead>\n",
       "    <tr style=\"text-align: right;\">\n",
       "      <th></th>\n",
       "      <th>PassengerId</th>\n",
       "      <th>Survived</th>\n",
       "      <th>Pclass</th>\n",
       "      <th>Name</th>\n",
       "      <th>Sex</th>\n",
       "      <th>Age</th>\n",
       "      <th>SibSp</th>\n",
       "      <th>Parch</th>\n",
       "      <th>Ticket</th>\n",
       "      <th>Fare</th>\n",
       "      <th>Cabin</th>\n",
       "      <th>Embarked</th>\n",
       "    </tr>\n",
       "  </thead>\n",
       "  <tbody>\n",
       "    <tr>\n",
       "      <th>0</th>\n",
       "      <td>1</td>\n",
       "      <td>0</td>\n",
       "      <td>3</td>\n",
       "      <td>Braund, Mr. Owen Harris</td>\n",
       "      <td>male</td>\n",
       "      <td>22.0</td>\n",
       "      <td>1</td>\n",
       "      <td>0</td>\n",
       "      <td>A/5 21171</td>\n",
       "      <td>7.2500</td>\n",
       "      <td>NaN</td>\n",
       "      <td>S</td>\n",
       "    </tr>\n",
       "    <tr>\n",
       "      <th>1</th>\n",
       "      <td>2</td>\n",
       "      <td>1</td>\n",
       "      <td>1</td>\n",
       "      <td>Cumings, Mrs. John Bradley (Florence Briggs Th...</td>\n",
       "      <td>female</td>\n",
       "      <td>38.0</td>\n",
       "      <td>1</td>\n",
       "      <td>0</td>\n",
       "      <td>PC 17599</td>\n",
       "      <td>71.2833</td>\n",
       "      <td>C85</td>\n",
       "      <td>C</td>\n",
       "    </tr>\n",
       "    <tr>\n",
       "      <th>2</th>\n",
       "      <td>3</td>\n",
       "      <td>1</td>\n",
       "      <td>3</td>\n",
       "      <td>Heikkinen, Miss. Laina</td>\n",
       "      <td>female</td>\n",
       "      <td>26.0</td>\n",
       "      <td>0</td>\n",
       "      <td>0</td>\n",
       "      <td>STON/O2. 3101282</td>\n",
       "      <td>7.9250</td>\n",
       "      <td>NaN</td>\n",
       "      <td>S</td>\n",
       "    </tr>\n",
       "    <tr>\n",
       "      <th>3</th>\n",
       "      <td>4</td>\n",
       "      <td>1</td>\n",
       "      <td>1</td>\n",
       "      <td>Futrelle, Mrs. Jacques Heath (Lily May Peel)</td>\n",
       "      <td>female</td>\n",
       "      <td>35.0</td>\n",
       "      <td>1</td>\n",
       "      <td>0</td>\n",
       "      <td>113803</td>\n",
       "      <td>53.1000</td>\n",
       "      <td>C123</td>\n",
       "      <td>S</td>\n",
       "    </tr>\n",
       "    <tr>\n",
       "      <th>4</th>\n",
       "      <td>5</td>\n",
       "      <td>0</td>\n",
       "      <td>3</td>\n",
       "      <td>Allen, Mr. William Henry</td>\n",
       "      <td>male</td>\n",
       "      <td>35.0</td>\n",
       "      <td>0</td>\n",
       "      <td>0</td>\n",
       "      <td>373450</td>\n",
       "      <td>8.0500</td>\n",
       "      <td>NaN</td>\n",
       "      <td>S</td>\n",
       "    </tr>\n",
       "  </tbody>\n",
       "</table>\n",
       "</div>"
      ],
      "text/plain": [
       "   PassengerId  Survived  Pclass  \\\n",
       "0            1         0       3   \n",
       "1            2         1       1   \n",
       "2            3         1       3   \n",
       "3            4         1       1   \n",
       "4            5         0       3   \n",
       "\n",
       "                                                Name     Sex   Age  SibSp  \\\n",
       "0                            Braund, Mr. Owen Harris    male  22.0      1   \n",
       "1  Cumings, Mrs. John Bradley (Florence Briggs Th...  female  38.0      1   \n",
       "2                             Heikkinen, Miss. Laina  female  26.0      0   \n",
       "3       Futrelle, Mrs. Jacques Heath (Lily May Peel)  female  35.0      1   \n",
       "4                           Allen, Mr. William Henry    male  35.0      0   \n",
       "\n",
       "   Parch            Ticket     Fare Cabin Embarked  \n",
       "0      0         A/5 21171   7.2500   NaN        S  \n",
       "1      0          PC 17599  71.2833   C85        C  \n",
       "2      0  STON/O2. 3101282   7.9250   NaN        S  \n",
       "3      0            113803  53.1000  C123        S  \n",
       "4      0            373450   8.0500   NaN        S  "
      ]
     },
     "execution_count": 3,
     "metadata": {},
     "output_type": "execute_result"
    }
   ],
   "source": [
    "train.head()"
   ]
  },
  {
   "cell_type": "code",
   "execution_count": 4,
   "id": "285b2028",
   "metadata": {
    "execution": {
     "iopub.execute_input": "2025-06-14T12:31:23.867269Z",
     "iopub.status.busy": "2025-06-14T12:31:23.866979Z",
     "iopub.status.idle": "2025-06-14T12:31:23.880340Z",
     "shell.execute_reply": "2025-06-14T12:31:23.879556Z"
    },
    "papermill": {
     "duration": 0.018899,
     "end_time": "2025-06-14T12:31:23.881663",
     "exception": false,
     "start_time": "2025-06-14T12:31:23.862764",
     "status": "completed"
    },
    "tags": []
   },
   "outputs": [
    {
     "data": {
      "text/html": [
       "<div>\n",
       "<style scoped>\n",
       "    .dataframe tbody tr th:only-of-type {\n",
       "        vertical-align: middle;\n",
       "    }\n",
       "\n",
       "    .dataframe tbody tr th {\n",
       "        vertical-align: top;\n",
       "    }\n",
       "\n",
       "    .dataframe thead th {\n",
       "        text-align: right;\n",
       "    }\n",
       "</style>\n",
       "<table border=\"1\" class=\"dataframe\">\n",
       "  <thead>\n",
       "    <tr style=\"text-align: right;\">\n",
       "      <th></th>\n",
       "      <th>PassengerId</th>\n",
       "      <th>Pclass</th>\n",
       "      <th>Name</th>\n",
       "      <th>Sex</th>\n",
       "      <th>Age</th>\n",
       "      <th>SibSp</th>\n",
       "      <th>Parch</th>\n",
       "      <th>Ticket</th>\n",
       "      <th>Fare</th>\n",
       "      <th>Cabin</th>\n",
       "      <th>Embarked</th>\n",
       "    </tr>\n",
       "  </thead>\n",
       "  <tbody>\n",
       "    <tr>\n",
       "      <th>0</th>\n",
       "      <td>892</td>\n",
       "      <td>3</td>\n",
       "      <td>Kelly, Mr. James</td>\n",
       "      <td>male</td>\n",
       "      <td>34.5</td>\n",
       "      <td>0</td>\n",
       "      <td>0</td>\n",
       "      <td>330911</td>\n",
       "      <td>7.8292</td>\n",
       "      <td>NaN</td>\n",
       "      <td>Q</td>\n",
       "    </tr>\n",
       "    <tr>\n",
       "      <th>1</th>\n",
       "      <td>893</td>\n",
       "      <td>3</td>\n",
       "      <td>Wilkes, Mrs. James (Ellen Needs)</td>\n",
       "      <td>female</td>\n",
       "      <td>47.0</td>\n",
       "      <td>1</td>\n",
       "      <td>0</td>\n",
       "      <td>363272</td>\n",
       "      <td>7.0000</td>\n",
       "      <td>NaN</td>\n",
       "      <td>S</td>\n",
       "    </tr>\n",
       "    <tr>\n",
       "      <th>2</th>\n",
       "      <td>894</td>\n",
       "      <td>2</td>\n",
       "      <td>Myles, Mr. Thomas Francis</td>\n",
       "      <td>male</td>\n",
       "      <td>62.0</td>\n",
       "      <td>0</td>\n",
       "      <td>0</td>\n",
       "      <td>240276</td>\n",
       "      <td>9.6875</td>\n",
       "      <td>NaN</td>\n",
       "      <td>Q</td>\n",
       "    </tr>\n",
       "    <tr>\n",
       "      <th>3</th>\n",
       "      <td>895</td>\n",
       "      <td>3</td>\n",
       "      <td>Wirz, Mr. Albert</td>\n",
       "      <td>male</td>\n",
       "      <td>27.0</td>\n",
       "      <td>0</td>\n",
       "      <td>0</td>\n",
       "      <td>315154</td>\n",
       "      <td>8.6625</td>\n",
       "      <td>NaN</td>\n",
       "      <td>S</td>\n",
       "    </tr>\n",
       "    <tr>\n",
       "      <th>4</th>\n",
       "      <td>896</td>\n",
       "      <td>3</td>\n",
       "      <td>Hirvonen, Mrs. Alexander (Helga E Lindqvist)</td>\n",
       "      <td>female</td>\n",
       "      <td>22.0</td>\n",
       "      <td>1</td>\n",
       "      <td>1</td>\n",
       "      <td>3101298</td>\n",
       "      <td>12.2875</td>\n",
       "      <td>NaN</td>\n",
       "      <td>S</td>\n",
       "    </tr>\n",
       "  </tbody>\n",
       "</table>\n",
       "</div>"
      ],
      "text/plain": [
       "   PassengerId  Pclass                                          Name     Sex  \\\n",
       "0          892       3                              Kelly, Mr. James    male   \n",
       "1          893       3              Wilkes, Mrs. James (Ellen Needs)  female   \n",
       "2          894       2                     Myles, Mr. Thomas Francis    male   \n",
       "3          895       3                              Wirz, Mr. Albert    male   \n",
       "4          896       3  Hirvonen, Mrs. Alexander (Helga E Lindqvist)  female   \n",
       "\n",
       "    Age  SibSp  Parch   Ticket     Fare Cabin Embarked  \n",
       "0  34.5      0      0   330911   7.8292   NaN        Q  \n",
       "1  47.0      1      0   363272   7.0000   NaN        S  \n",
       "2  62.0      0      0   240276   9.6875   NaN        Q  \n",
       "3  27.0      0      0   315154   8.6625   NaN        S  \n",
       "4  22.0      1      1  3101298  12.2875   NaN        S  "
      ]
     },
     "execution_count": 4,
     "metadata": {},
     "output_type": "execute_result"
    }
   ],
   "source": [
    "test.head()"
   ]
  },
  {
   "cell_type": "code",
   "execution_count": 5,
   "id": "1bc6be36",
   "metadata": {
    "execution": {
     "iopub.execute_input": "2025-06-14T12:31:23.889831Z",
     "iopub.status.busy": "2025-06-14T12:31:23.889452Z",
     "iopub.status.idle": "2025-06-14T12:31:23.894449Z",
     "shell.execute_reply": "2025-06-14T12:31:23.893491Z"
    },
    "papermill": {
     "duration": 0.010963,
     "end_time": "2025-06-14T12:31:23.896119",
     "exception": false,
     "start_time": "2025-06-14T12:31:23.885156",
     "status": "completed"
    },
    "tags": []
   },
   "outputs": [],
   "source": [
    "# 1等座和2等座所有年龄段的女性几乎全部存活 （0.97）\n",
    "# 1等座和2等座小于18岁所有人全部存活（1.0）\n",
    "# 3等座的妇孺只有一半的几率存活 （0.5）\n",
    "# 有孩子的家庭会比没有的生存率提升20% （0.52）\n",
    "# 影响力最大的为妇孺优先\n",
    "# 称呼 master 未成年男孩\n",
    "#     miss 未婚女性（包括未成年）\n",
    "#     mrs 已婚女性\n",
    "#     mr 成年男性\n",
    "# 除了这四种其他头衔(40人)\n",
    "# 船长(capt)和神职人员(rev)必死\n",
    "# 该头衔男性一半一半女性全部存活"
   ]
  },
  {
   "cell_type": "code",
   "execution_count": 6,
   "id": "d5bd82b3",
   "metadata": {
    "execution": {
     "iopub.execute_input": "2025-06-14T12:31:23.904384Z",
     "iopub.status.busy": "2025-06-14T12:31:23.904019Z",
     "iopub.status.idle": "2025-06-14T12:31:23.921004Z",
     "shell.execute_reply": "2025-06-14T12:31:23.919868Z"
    },
    "papermill": {
     "duration": 0.023183,
     "end_time": "2025-06-14T12:31:23.922936",
     "exception": false,
     "start_time": "2025-06-14T12:31:23.899753",
     "status": "completed"
    },
    "tags": []
   },
   "outputs": [],
   "source": [
    "train['Title'] = train['Name'].str.extract(r',\\s*([^\\.]+)\\.', expand=False)\n",
    "train['Title'] = train['Title'].str.strip()\n",
    "\n",
    "train['Title'] = train['Title'].replace(['Mlle', 'Ms'], 'Miss')\n",
    "train['Title'] = train['Title'].replace(['Mme', 'Countess', 'Lady', 'Dona'], 'Mrs')\n",
    "train['Title'] = train['Title'].replace(['Rev', 'Col', 'Major', 'Capt', 'Sir', 'Don', 'Jonkheer'], 'Officer')\n",
    "\n",
    "# title_counts = train['Title'].value_counts()\n",
    "# print(title_counts)"
   ]
  },
  {
   "cell_type": "code",
   "execution_count": 7,
   "id": "21e2ac50",
   "metadata": {
    "execution": {
     "iopub.execute_input": "2025-06-14T12:31:23.931093Z",
     "iopub.status.busy": "2025-06-14T12:31:23.930668Z",
     "iopub.status.idle": "2025-06-14T12:31:23.941724Z",
     "shell.execute_reply": "2025-06-14T12:31:23.940957Z"
    },
    "papermill": {
     "duration": 0.016913,
     "end_time": "2025-06-14T12:31:23.943302",
     "exception": false,
     "start_time": "2025-06-14T12:31:23.926389",
     "status": "completed"
    },
    "tags": []
   },
   "outputs": [],
   "source": [
    "test['Title'] = test['Name'].str.extract(r',\\s*([^\\.]+)\\.', expand=False)\n",
    "test['Title'] = test['Title'].str.strip()\n",
    "\n",
    "test['Title'] = test['Title'].replace(['Mlle', 'Ms'], 'Miss')\n",
    "test['Title'] = test['Title'].replace(['Mme', 'Countess', 'Lady', 'Dona'], 'Mrs')\n",
    "test['Title'] = test['Title'].replace(['Rev', 'Col', 'Major', 'Capt', 'Sir', 'Don', 'Jonkheer'], 'Officer')"
   ]
  },
  {
   "cell_type": "code",
   "execution_count": 8,
   "id": "406007e3",
   "metadata": {
    "execution": {
     "iopub.execute_input": "2025-06-14T12:31:23.951426Z",
     "iopub.status.busy": "2025-06-14T12:31:23.951128Z",
     "iopub.status.idle": "2025-06-14T12:31:23.969531Z",
     "shell.execute_reply": "2025-06-14T12:31:23.968570Z"
    },
    "papermill": {
     "duration": 0.02437,
     "end_time": "2025-06-14T12:31:23.971246",
     "exception": false,
     "start_time": "2025-06-14T12:31:23.946876",
     "status": "completed"
    },
    "tags": []
   },
   "outputs": [],
   "source": [
    "# 根据头衔赋予不同默认值\n",
    "title_defaults = {\n",
    "    'Master': 5,    # 儿童\n",
    "    'Miss': 22,     # 年轻女性\n",
    "    'Mr': 30,       # 成年男性\n",
    "    'Mrs': 35,      # 已婚女性\n",
    "    'Dr': 40,       # 医生/博士\n",
    "    'Officer': 45   # 军官/贵族\n",
    "}\n",
    "\n",
    "def fill_default_age_train(row):\n",
    "    if pd.isnull(row['Age']):\n",
    "        return title_defaults.get(row['Title'], train['Age'].median())\n",
    "    return row['Age']\n",
    "\n",
    "train['Age'] = train.apply(fill_default_age_train, axis=1)"
   ]
  },
  {
   "cell_type": "code",
   "execution_count": 9,
   "id": "af45bf04",
   "metadata": {
    "execution": {
     "iopub.execute_input": "2025-06-14T12:31:23.979151Z",
     "iopub.status.busy": "2025-06-14T12:31:23.978829Z",
     "iopub.status.idle": "2025-06-14T12:31:23.994178Z",
     "shell.execute_reply": "2025-06-14T12:31:23.993220Z"
    },
    "papermill": {
     "duration": 0.020937,
     "end_time": "2025-06-14T12:31:23.995608",
     "exception": false,
     "start_time": "2025-06-14T12:31:23.974671",
     "status": "completed"
    },
    "tags": []
   },
   "outputs": [],
   "source": [
    "def fill_default_age_test(row):\n",
    "    if pd.isnull(row['Age']):\n",
    "        return title_defaults.get(row['Title'], test['Age'].median())\n",
    "    return row['Age']\n",
    "\n",
    "test['Age'] = test.apply(fill_default_age_test, axis=1)"
   ]
  },
  {
   "cell_type": "code",
   "execution_count": 10,
   "id": "01db4836",
   "metadata": {
    "execution": {
     "iopub.execute_input": "2025-06-14T12:31:24.003695Z",
     "iopub.status.busy": "2025-06-14T12:31:24.003359Z",
     "iopub.status.idle": "2025-06-14T12:31:24.009148Z",
     "shell.execute_reply": "2025-06-14T12:31:24.008287Z"
    },
    "papermill": {
     "duration": 0.011774,
     "end_time": "2025-06-14T12:31:24.010839",
     "exception": false,
     "start_time": "2025-06-14T12:31:23.999065",
     "status": "completed"
    },
    "tags": []
   },
   "outputs": [],
   "source": [
    "# 创建规则特征\n",
    "def create_rule_features(train):\n",
    "    # 规则1：1/2等舱女性\n",
    "    train['is_p12_female'] = ((train['Pclass'].isin([1,2])) & (train['Sex']=='female'))\n",
    "    \n",
    "    # 规则2：1/2等舱<18岁\n",
    "    train['is_p12_under18'] = ((train['Pclass'].isin([1,2])) & (train['Age']<18))\n",
    "    \n",
    "    # 规则3：3等舱妇孺\n",
    "    train['is_p3_women_child'] = ((train['Pclass']==3) & ((train['Sex']=='female') | (train['Age']<18)))\n",
    "\n",
    "    # 规则4：有孩子的家庭\n",
    "    train['family_with_child'] = (train['Parch']>0)\n",
    "    \n",
    "    return train"
   ]
  },
  {
   "cell_type": "code",
   "execution_count": 11,
   "id": "b547cd29",
   "metadata": {
    "execution": {
     "iopub.execute_input": "2025-06-14T12:31:24.019214Z",
     "iopub.status.busy": "2025-06-14T12:31:24.018868Z",
     "iopub.status.idle": "2025-06-14T12:31:24.037287Z",
     "shell.execute_reply": "2025-06-14T12:31:24.036077Z"
    },
    "papermill": {
     "duration": 0.025037,
     "end_time": "2025-06-14T12:31:24.039303",
     "exception": false,
     "start_time": "2025-06-14T12:31:24.014266",
     "status": "completed"
    },
    "tags": []
   },
   "outputs": [],
   "source": [
    "# 应用特征工程\n",
    "train = create_rule_features(train)\n",
    "test = create_rule_features(test)"
   ]
  },
  {
   "cell_type": "code",
   "execution_count": 12,
   "id": "af7c44e8",
   "metadata": {
    "execution": {
     "iopub.execute_input": "2025-06-14T12:31:24.047967Z",
     "iopub.status.busy": "2025-06-14T12:31:24.047136Z",
     "iopub.status.idle": "2025-06-14T12:31:24.228406Z",
     "shell.execute_reply": "2025-06-14T12:31:24.227392Z"
    },
    "papermill": {
     "duration": 0.187496,
     "end_time": "2025-06-14T12:31:24.230238",
     "exception": false,
     "start_time": "2025-06-14T12:31:24.042742",
     "status": "completed"
    },
    "tags": []
   },
   "outputs": [],
   "source": [
    "features = ['Pclass', 'Sex', 'Age', 'SibSp', 'Parch', \n",
    "           'is_p12_female', 'is_p12_under18', \n",
    "            'is_p3_women_child', 'family_with_child']\n",
    "X_train = pd.get_dummies(train[features])\n",
    "y_train = train[\"Survived\"]\n",
    "X_test = pd.get_dummies(test[features])\n",
    "model = RandomForestClassifier(n_estimators=100, max_depth=5, random_state=1)\n",
    "model.fit(X_train, y_train)\n",
    "predictions = model.predict(X_test)"
   ]
  },
  {
   "cell_type": "code",
   "execution_count": 13,
   "id": "e97af2bd",
   "metadata": {
    "execution": {
     "iopub.execute_input": "2025-06-14T12:31:24.238379Z",
     "iopub.status.busy": "2025-06-14T12:31:24.238020Z",
     "iopub.status.idle": "2025-06-14T12:31:24.250338Z",
     "shell.execute_reply": "2025-06-14T12:31:24.249384Z"
    },
    "papermill": {
     "duration": 0.018312,
     "end_time": "2025-06-14T12:31:24.251943",
     "exception": false,
     "start_time": "2025-06-14T12:31:24.233631",
     "status": "completed"
    },
    "tags": []
   },
   "outputs": [
    {
     "name": "stdout",
     "output_type": "stream",
     "text": [
      "Your submission was successfully saved!\n"
     ]
    }
   ],
   "source": [
    "output = pd.DataFrame({'PassengerId': test['PassengerId'], 'Survived': predictions})\n",
    "output.to_csv('submission.csv', index=False)\n",
    "print(\"Your submission was successfully saved!\")"
   ]
  }
 ],
 "metadata": {
  "kaggle": {
   "accelerator": "none",
   "dataSources": [
    {
     "databundleVersionId": 26502,
     "sourceId": 3136,
     "sourceType": "competition"
    }
   ],
   "dockerImageVersionId": 31040,
   "isGpuEnabled": false,
   "isInternetEnabled": true,
   "language": "python",
   "sourceType": "notebook"
  },
  "kernelspec": {
   "display_name": "Python 3",
   "language": "python",
   "name": "python3"
  },
  "language_info": {
   "codemirror_mode": {
    "name": "ipython",
    "version": 3
   },
   "file_extension": ".py",
   "mimetype": "text/x-python",
   "name": "python",
   "nbconvert_exporter": "python",
   "pygments_lexer": "ipython3",
   "version": "3.11.11"
  },
  "papermill": {
   "default_parameters": {},
   "duration": 10.667724,
   "end_time": "2025-06-14T12:31:24.975834",
   "environment_variables": {},
   "exception": null,
   "input_path": "__notebook__.ipynb",
   "output_path": "__notebook__.ipynb",
   "parameters": {},
   "start_time": "2025-06-14T12:31:14.308110",
   "version": "2.6.0"
  }
 },
 "nbformat": 4,
 "nbformat_minor": 5
}
