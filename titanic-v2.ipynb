{
 "cells": [
  {
   "cell_type": "code",
   "execution_count": 1,
   "id": "2ce33395",
   "metadata": {
    "_cell_guid": "b1076dfc-b9ad-4769-8c92-a6c4dae69d19",
    "_uuid": "8f2839f25d086af736a60e9eeb907d3b93b6e0e5",
    "execution": {
     "iopub.execute_input": "2025-06-13T17:40:31.064974Z",
     "iopub.status.busy": "2025-06-13T17:40:31.064196Z",
     "iopub.status.idle": "2025-06-13T17:40:33.551120Z",
     "shell.execute_reply": "2025-06-13T17:40:33.549498Z"
    },
    "papermill": {
     "duration": 2.495371,
     "end_time": "2025-06-13T17:40:33.554217",
     "exception": false,
     "start_time": "2025-06-13T17:40:31.058846",
     "status": "completed"
    },
    "tags": []
   },
   "outputs": [],
   "source": [
    "import pandas as pd"
   ]
  },
  {
   "cell_type": "code",
   "execution_count": 2,
   "id": "19b9ad48",
   "metadata": {
    "execution": {
     "iopub.execute_input": "2025-06-13T17:40:33.564872Z",
     "iopub.status.busy": "2025-06-13T17:40:33.564258Z",
     "iopub.status.idle": "2025-06-13T17:40:33.621409Z",
     "shell.execute_reply": "2025-06-13T17:40:33.620546Z"
    },
    "papermill": {
     "duration": 0.065512,
     "end_time": "2025-06-13T17:40:33.623451",
     "exception": false,
     "start_time": "2025-06-13T17:40:33.557939",
     "status": "completed"
    },
    "tags": []
   },
   "outputs": [],
   "source": [
    "train = pd.read_csv(\"/kaggle/input/titanic/train.csv\")\n",
    "test = pd.read_csv(\"/kaggle/input/titanic/test.csv\")\n",
    "submission = pd.read_csv(\"/kaggle/input/titanic/gender_submission.csv\")"
   ]
  },
  {
   "cell_type": "code",
   "execution_count": 3,
   "id": "06c03e63",
   "metadata": {
    "execution": {
     "iopub.execute_input": "2025-06-13T17:40:33.630957Z",
     "iopub.status.busy": "2025-06-13T17:40:33.629929Z",
     "iopub.status.idle": "2025-06-13T17:40:33.646416Z",
     "shell.execute_reply": "2025-06-13T17:40:33.645377Z"
    },
    "papermill": {
     "duration": 0.021795,
     "end_time": "2025-06-13T17:40:33.648138",
     "exception": false,
     "start_time": "2025-06-13T17:40:33.626343",
     "status": "completed"
    },
    "tags": []
   },
   "outputs": [],
   "source": [
    "test['Fare'] = test['Fare'].fillna(test['Fare'].mode()[0])"
   ]
  },
  {
   "cell_type": "code",
   "execution_count": 4,
   "id": "65122db7",
   "metadata": {
    "execution": {
     "iopub.execute_input": "2025-06-13T17:40:33.654903Z",
     "iopub.status.busy": "2025-06-13T17:40:33.654614Z",
     "iopub.status.idle": "2025-06-13T17:40:33.666111Z",
     "shell.execute_reply": "2025-06-13T17:40:33.664968Z"
    },
    "papermill": {
     "duration": 0.017,
     "end_time": "2025-06-13T17:40:33.667967",
     "exception": false,
     "start_time": "2025-06-13T17:40:33.650967",
     "status": "completed"
    },
    "tags": []
   },
   "outputs": [],
   "source": [
    "train['Sex_encoded'] = train['Sex'].map({'male': 1, 'female': 0})\n",
    "test['Sex_encoded'] = test['Sex'].map({'male': 1, 'female': 0})"
   ]
  },
  {
   "cell_type": "code",
   "execution_count": 5,
   "id": "eceb642b",
   "metadata": {
    "execution": {
     "iopub.execute_input": "2025-06-13T17:40:33.674320Z",
     "iopub.status.busy": "2025-06-13T17:40:33.673996Z",
     "iopub.status.idle": "2025-06-13T17:40:33.687956Z",
     "shell.execute_reply": "2025-06-13T17:40:33.686699Z"
    },
    "papermill": {
     "duration": 0.019278,
     "end_time": "2025-06-13T17:40:33.689968",
     "exception": false,
     "start_time": "2025-06-13T17:40:33.670690",
     "status": "completed"
    },
    "tags": []
   },
   "outputs": [],
   "source": [
    "train.dropna(subset=['Embarked'], inplace=True)\n",
    "test.dropna(subset=['Embarked'], inplace=True)"
   ]
  },
  {
   "cell_type": "code",
   "execution_count": 6,
   "id": "29c04fa3",
   "metadata": {
    "execution": {
     "iopub.execute_input": "2025-06-13T17:40:33.696788Z",
     "iopub.status.busy": "2025-06-13T17:40:33.696491Z",
     "iopub.status.idle": "2025-06-13T17:40:35.748008Z",
     "shell.execute_reply": "2025-06-13T17:40:35.747076Z"
    },
    "papermill": {
     "duration": 2.057207,
     "end_time": "2025-06-13T17:40:35.749982",
     "exception": false,
     "start_time": "2025-06-13T17:40:33.692775",
     "status": "completed"
    },
    "tags": []
   },
   "outputs": [],
   "source": [
    "from sklearn.preprocessing import OneHotEncoder\n",
    "import pandas as pd\n",
    "\n",
    "# 初始化编码器（必须设置 handle_unknown='ignore'）\n",
    "ohe = OneHotEncoder(sparse_output=False, handle_unknown='ignore')\n",
    "\n",
    "# 训练集拟合并转换\n",
    "embarked_train_encoded = ohe.fit_transform(train[['Embarked']])  # 输入必须是二维\n",
    "embarked_cols = ohe.get_feature_names_out(['Embarked'])  # 获取列名（如 ['Embarked_C', 'Embarked_Q', 'Embarked_S']）\n",
    "\n",
    "# 测试集转换（自动对齐训练集的列，未知类别全0）\n",
    "embarked_test_encoded = ohe.transform(test[['Embarked']])\n",
    "\n",
    "# 将编码结果转为DataFrame\n",
    "train_encoded_df = pd.DataFrame(embarked_train_encoded, columns=embarked_cols, index=train.index)\n",
    "test_encoded_df = pd.DataFrame(embarked_test_encoded, columns=embarked_cols, index=test.index)\n",
    "\n",
    "# 合并到原数据\n",
    "train = pd.concat([train, train_encoded_df], axis=1)\n",
    "test = pd.concat([test, test_encoded_df], axis=1)\n",
    "\n",
    "# train.drop(['Embarked_S', 'Embarked_C', 'Embarked_Q'], axis=1, inplace=True)\n",
    "# test.drop(['Embarked_S', 'Embarked_C', 'Embarked_Q'], axis=1, inplace=True)"
   ]
  },
  {
   "cell_type": "code",
   "execution_count": 7,
   "id": "2e5f7105",
   "metadata": {
    "execution": {
     "iopub.execute_input": "2025-06-13T17:40:35.757133Z",
     "iopub.status.busy": "2025-06-13T17:40:35.756677Z",
     "iopub.status.idle": "2025-06-13T17:40:36.315468Z",
     "shell.execute_reply": "2025-06-13T17:40:36.314666Z"
    },
    "papermill": {
     "duration": 0.56409,
     "end_time": "2025-06-13T17:40:36.317096",
     "exception": false,
     "start_time": "2025-06-13T17:40:35.753006",
     "status": "completed"
    },
    "tags": []
   },
   "outputs": [],
   "source": [
    "from sklearn.impute import KNNImputer\n",
    "\n",
    "# 选择相关特征并标准化\n",
    "from sklearn.preprocessing import StandardScaler\n",
    "age_train = train[['Age']].values\n",
    "age_test = test[['Age']].values\n",
    "\n",
    "scaler = StandardScaler()\n",
    "\n",
    "scaled_age_train = scaler.fit_transform(age_train)\n",
    "scaled_age_test = scaler.transform(age_test)\n",
    "\n",
    "train['Age_scaled'] = scaled_age_train\n",
    "test['Age_scaled'] = scaled_age_test\n",
    "\n",
    "# KNN填充\n",
    "imputer = KNNImputer(n_neighbors=5)\n",
    "\n",
    "train['Age'] = imputer.fit_transform(train[['Age_scaled']])\n",
    "test['Age'] = imputer.transform(test[['Age_scaled']])\n",
    "\n",
    "train.drop(['Age_scaled'], axis=1, inplace=True)\n",
    "test.drop(['Age_scaled'], axis=1, inplace=True)"
   ]
  },
  {
   "cell_type": "code",
   "execution_count": 8,
   "id": "f2d28c2a",
   "metadata": {
    "execution": {
     "iopub.execute_input": "2025-06-13T17:40:36.323541Z",
     "iopub.status.busy": "2025-06-13T17:40:36.323223Z",
     "iopub.status.idle": "2025-06-13T17:40:36.331269Z",
     "shell.execute_reply": "2025-06-13T17:40:36.330184Z"
    },
    "papermill": {
     "duration": 0.013179,
     "end_time": "2025-06-13T17:40:36.333024",
     "exception": false,
     "start_time": "2025-06-13T17:40:36.319845",
     "status": "completed"
    },
    "tags": []
   },
   "outputs": [],
   "source": [
    "X_train = train.drop(['PassengerId', 'Survived', 'Name', 'Sex', 'Ticket', 'Cabin', 'Embarked'], axis=1)\n",
    "y_train = train['Survived']\n",
    "\n",
    "X_test = test.drop(['PassengerId', 'Name', 'Sex', 'Ticket', 'Cabin', 'Embarked'], axis=1)"
   ]
  },
  {
   "cell_type": "code",
   "execution_count": 9,
   "id": "94dab204",
   "metadata": {
    "execution": {
     "iopub.execute_input": "2025-06-13T17:40:36.339635Z",
     "iopub.status.busy": "2025-06-13T17:40:36.339302Z",
     "iopub.status.idle": "2025-06-13T17:40:37.156232Z",
     "shell.execute_reply": "2025-06-13T17:40:37.155145Z"
    },
    "papermill": {
     "duration": 0.822486,
     "end_time": "2025-06-13T17:40:37.158261",
     "exception": false,
     "start_time": "2025-06-13T17:40:36.335775",
     "status": "completed"
    },
    "tags": []
   },
   "outputs": [
    {
     "data": {
      "text/html": [
       "<style>#sk-container-id-1 {color: black;background-color: white;}#sk-container-id-1 pre{padding: 0;}#sk-container-id-1 div.sk-toggleable {background-color: white;}#sk-container-id-1 label.sk-toggleable__label {cursor: pointer;display: block;width: 100%;margin-bottom: 0;padding: 0.3em;box-sizing: border-box;text-align: center;}#sk-container-id-1 label.sk-toggleable__label-arrow:before {content: \"▸\";float: left;margin-right: 0.25em;color: #696969;}#sk-container-id-1 label.sk-toggleable__label-arrow:hover:before {color: black;}#sk-container-id-1 div.sk-estimator:hover label.sk-toggleable__label-arrow:before {color: black;}#sk-container-id-1 div.sk-toggleable__content {max-height: 0;max-width: 0;overflow: hidden;text-align: left;background-color: #f0f8ff;}#sk-container-id-1 div.sk-toggleable__content pre {margin: 0.2em;color: black;border-radius: 0.25em;background-color: #f0f8ff;}#sk-container-id-1 input.sk-toggleable__control:checked~div.sk-toggleable__content {max-height: 200px;max-width: 100%;overflow: auto;}#sk-container-id-1 input.sk-toggleable__control:checked~label.sk-toggleable__label-arrow:before {content: \"▾\";}#sk-container-id-1 div.sk-estimator input.sk-toggleable__control:checked~label.sk-toggleable__label {background-color: #d4ebff;}#sk-container-id-1 div.sk-label input.sk-toggleable__control:checked~label.sk-toggleable__label {background-color: #d4ebff;}#sk-container-id-1 input.sk-hidden--visually {border: 0;clip: rect(1px 1px 1px 1px);clip: rect(1px, 1px, 1px, 1px);height: 1px;margin: -1px;overflow: hidden;padding: 0;position: absolute;width: 1px;}#sk-container-id-1 div.sk-estimator {font-family: monospace;background-color: #f0f8ff;border: 1px dotted black;border-radius: 0.25em;box-sizing: border-box;margin-bottom: 0.5em;}#sk-container-id-1 div.sk-estimator:hover {background-color: #d4ebff;}#sk-container-id-1 div.sk-parallel-item::after {content: \"\";width: 100%;border-bottom: 1px solid gray;flex-grow: 1;}#sk-container-id-1 div.sk-label:hover label.sk-toggleable__label {background-color: #d4ebff;}#sk-container-id-1 div.sk-serial::before {content: \"\";position: absolute;border-left: 1px solid gray;box-sizing: border-box;top: 0;bottom: 0;left: 50%;z-index: 0;}#sk-container-id-1 div.sk-serial {display: flex;flex-direction: column;align-items: center;background-color: white;padding-right: 0.2em;padding-left: 0.2em;position: relative;}#sk-container-id-1 div.sk-item {position: relative;z-index: 1;}#sk-container-id-1 div.sk-parallel {display: flex;align-items: stretch;justify-content: center;background-color: white;position: relative;}#sk-container-id-1 div.sk-item::before, #sk-container-id-1 div.sk-parallel-item::before {content: \"\";position: absolute;border-left: 1px solid gray;box-sizing: border-box;top: 0;bottom: 0;left: 50%;z-index: -1;}#sk-container-id-1 div.sk-parallel-item {display: flex;flex-direction: column;z-index: 1;position: relative;background-color: white;}#sk-container-id-1 div.sk-parallel-item:first-child::after {align-self: flex-end;width: 50%;}#sk-container-id-1 div.sk-parallel-item:last-child::after {align-self: flex-start;width: 50%;}#sk-container-id-1 div.sk-parallel-item:only-child::after {width: 0;}#sk-container-id-1 div.sk-dashed-wrapped {border: 1px dashed gray;margin: 0 0.4em 0.5em 0.4em;box-sizing: border-box;padding-bottom: 0.4em;background-color: white;}#sk-container-id-1 div.sk-label label {font-family: monospace;font-weight: bold;display: inline-block;line-height: 1.2em;}#sk-container-id-1 div.sk-label-container {text-align: center;}#sk-container-id-1 div.sk-container {/* jupyter's `normalize.less` sets `[hidden] { display: none; }` but bootstrap.min.css set `[hidden] { display: none !important; }` so we also need the `!important` here to be able to override the default hidden behavior on the sphinx rendered scikit-learn.org. See: https://github.com/scikit-learn/scikit-learn/issues/21755 */display: inline-block !important;position: relative;}#sk-container-id-1 div.sk-text-repr-fallback {display: none;}</style><div id=\"sk-container-id-1\" class=\"sk-top-container\"><div class=\"sk-text-repr-fallback\"><pre>XGBClassifier(base_score=None, booster=None, callbacks=None,\n",
       "              colsample_bylevel=None, colsample_bynode=None,\n",
       "              colsample_bytree=None, device=None, early_stopping_rounds=None,\n",
       "              enable_categorical=False, eval_metric=None, feature_types=None,\n",
       "              gamma=None, grow_policy=None, importance_type=None,\n",
       "              interaction_constraints=None, learning_rate=0.1, max_bin=None,\n",
       "              max_cat_threshold=None, max_cat_to_onehot=None,\n",
       "              max_delta_step=None, max_depth=None, max_leaves=None,\n",
       "              min_child_weight=None, missing=nan, monotone_constraints=None,\n",
       "              multi_strategy=None, n_estimators=200, n_jobs=None,\n",
       "              num_parallel_tree=None, random_state=42, ...)</pre><b>In a Jupyter environment, please rerun this cell to show the HTML representation or trust the notebook. <br />On GitHub, the HTML representation is unable to render, please try loading this page with nbviewer.org.</b></div><div class=\"sk-container\" hidden><div class=\"sk-item\"><div class=\"sk-estimator sk-toggleable\"><input class=\"sk-toggleable__control sk-hidden--visually\" id=\"sk-estimator-id-1\" type=\"checkbox\" checked><label for=\"sk-estimator-id-1\" class=\"sk-toggleable__label sk-toggleable__label-arrow\">XGBClassifier</label><div class=\"sk-toggleable__content\"><pre>XGBClassifier(base_score=None, booster=None, callbacks=None,\n",
       "              colsample_bylevel=None, colsample_bynode=None,\n",
       "              colsample_bytree=None, device=None, early_stopping_rounds=None,\n",
       "              enable_categorical=False, eval_metric=None, feature_types=None,\n",
       "              gamma=None, grow_policy=None, importance_type=None,\n",
       "              interaction_constraints=None, learning_rate=0.1, max_bin=None,\n",
       "              max_cat_threshold=None, max_cat_to_onehot=None,\n",
       "              max_delta_step=None, max_depth=None, max_leaves=None,\n",
       "              min_child_weight=None, missing=nan, monotone_constraints=None,\n",
       "              multi_strategy=None, n_estimators=200, n_jobs=None,\n",
       "              num_parallel_tree=None, random_state=42, ...)</pre></div></div></div></div></div>"
      ],
      "text/plain": [
       "XGBClassifier(base_score=None, booster=None, callbacks=None,\n",
       "              colsample_bylevel=None, colsample_bynode=None,\n",
       "              colsample_bytree=None, device=None, early_stopping_rounds=None,\n",
       "              enable_categorical=False, eval_metric=None, feature_types=None,\n",
       "              gamma=None, grow_policy=None, importance_type=None,\n",
       "              interaction_constraints=None, learning_rate=0.1, max_bin=None,\n",
       "              max_cat_threshold=None, max_cat_to_onehot=None,\n",
       "              max_delta_step=None, max_depth=None, max_leaves=None,\n",
       "              min_child_weight=None, missing=nan, monotone_constraints=None,\n",
       "              multi_strategy=None, n_estimators=200, n_jobs=None,\n",
       "              num_parallel_tree=None, random_state=42, ...)"
      ]
     },
     "execution_count": 9,
     "metadata": {},
     "output_type": "execute_result"
    }
   ],
   "source": [
    "from sklearn.ensemble import RandomForestClassifier\n",
    "from xgboost import XGBClassifier\n",
    "\n",
    "# model = RandomForestClassifier(n_estimators=100, random_state=42)\n",
    "model = XGBClassifier(n_estimators=200, learning_rate=0.1, random_state=42)\n",
    "model.fit(X_train, y_train)"
   ]
  },
  {
   "cell_type": "code",
   "execution_count": 10,
   "id": "1e9953b3",
   "metadata": {
    "execution": {
     "iopub.execute_input": "2025-06-13T17:40:37.165864Z",
     "iopub.status.busy": "2025-06-13T17:40:37.165435Z",
     "iopub.status.idle": "2025-06-13T17:40:37.189254Z",
     "shell.execute_reply": "2025-06-13T17:40:37.187972Z"
    },
    "papermill": {
     "duration": 0.030132,
     "end_time": "2025-06-13T17:40:37.191670",
     "exception": false,
     "start_time": "2025-06-13T17:40:37.161538",
     "status": "completed"
    },
    "tags": []
   },
   "outputs": [
    {
     "name": "stdout",
     "output_type": "stream",
     "text": [
      "              precision    recall  f1-score   support\n",
      "\n",
      "           0       0.87      0.90      0.88       266\n",
      "           1       0.81      0.76      0.79       152\n",
      "\n",
      "    accuracy                           0.85       418\n",
      "   macro avg       0.84      0.83      0.83       418\n",
      "weighted avg       0.85      0.85      0.85       418\n",
      "\n"
     ]
    }
   ],
   "source": [
    "from sklearn.metrics import classification_report\n",
    "from sklearn.metrics import accuracy_score\n",
    "\n",
    "predictions = model.predict(X_test)\n",
    "print(classification_report(submission['Survived'], predictions))"
   ]
  }
 ],
 "metadata": {
  "kaggle": {
   "accelerator": "none",
   "dataSources": [
    {
     "databundleVersionId": 26502,
     "sourceId": 3136,
     "sourceType": "competition"
    }
   ],
   "dockerImageVersionId": 31040,
   "isGpuEnabled": false,
   "isInternetEnabled": true,
   "language": "python",
   "sourceType": "notebook"
  },
  "kernelspec": {
   "display_name": "Python 3",
   "language": "python",
   "name": "python3"
  },
  "language_info": {
   "codemirror_mode": {
    "name": "ipython",
    "version": 3
   },
   "file_extension": ".py",
   "mimetype": "text/x-python",
   "name": "python",
   "nbconvert_exporter": "python",
   "pygments_lexer": "ipython3",
   "version": "3.11.11"
  },
  "papermill": {
   "default_parameters": {},
   "duration": 12.296095,
   "end_time": "2025-06-13T17:40:37.919044",
   "environment_variables": {},
   "exception": null,
   "input_path": "__notebook__.ipynb",
   "output_path": "__notebook__.ipynb",
   "parameters": {},
   "start_time": "2025-06-13T17:40:25.622949",
   "version": "2.6.0"
  }
 },
 "nbformat": 4,
 "nbformat_minor": 5
}
